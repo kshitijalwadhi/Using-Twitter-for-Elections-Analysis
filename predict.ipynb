{
 "cells": [
  {
   "cell_type": "code",
   "execution_count": 337,
   "metadata": {},
   "outputs": [],
   "source": [
    "import numpy as np"
   ]
  },
  {
   "cell_type": "code",
   "execution_count": 338,
   "metadata": {},
   "outputs": [],
   "source": [
    "polarity_aap = np.load(\"Testing/Sentiments/aap_polarity.npy\")\n",
    "subjectivity_aap = np.load(\"Testing/Sentiments/aap_subjectivity.npy\")\n",
    "bnb_aap = np.load(\"Testing/Sentiments/aap_BNB.npy\",allow_pickle=True)"
   ]
  },
  {
   "cell_type": "code",
   "execution_count": 339,
   "metadata": {},
   "outputs": [],
   "source": [
    "bnb_aap[bnb_aap == \"Positive\"] = 1\n",
    "bnb_aap[bnb_aap == \"Negative\"] = -1"
   ]
  },
  {
   "cell_type": "code",
   "execution_count": 340,
   "metadata": {},
   "outputs": [],
   "source": [
    "polarity_bjp_up = np.load(\"Testing/Sentiments/up_bjp_polarity.npy\")\n",
    "subjectivity_bjp_up = np.load(\"Testing/Sentiments/up_bjp_subjectivity.npy\")\n",
    "bnb_bjp_up = np.load(\"Testing/Sentiments/up_bjp_BNB.npy\",allow_pickle=True)"
   ]
  },
  {
   "cell_type": "code",
   "execution_count": 341,
   "metadata": {},
   "outputs": [],
   "source": [
    "bnb_bjp_up[bnb_bjp_up == \"Positive\"] = 1\n",
    "bnb_bjp_up[bnb_bjp_up == \"Negative\"] = -1"
   ]
  },
  {
   "cell_type": "code",
   "execution_count": 342,
   "metadata": {},
   "outputs": [],
   "source": [
    "polarity_bjp_punjab = np.load(\"Testing/Sentiments/punjab_bjp_polarity.npy\")\n",
    "subjectivity_bjp_punjab = np.load(\"Testing/Sentiments/punjab_bjp_subjectivity.npy\")\n",
    "bnb_bjp_punjab = np.load(\"Testing/Sentiments/punjab_bjp_BNB.npy\",allow_pickle=True)"
   ]
  },
  {
   "cell_type": "code",
   "execution_count": 343,
   "metadata": {},
   "outputs": [],
   "source": [
    "bnb_bjp_punjab[bnb_bjp_punjab == \"Positive\"] = 1\n",
    "bnb_bjp_punjab[bnb_bjp_punjab == \"Negative\"] = -1"
   ]
  },
  {
   "cell_type": "code",
   "execution_count": 344,
   "metadata": {},
   "outputs": [],
   "source": [
    "polarity_bsp = np.load(\"Testing/Sentiments/bsp_polarity.npy\")\n",
    "subjectivity_bsp = np.load(\"Testing/Sentiments/bsp_subjectivity.npy\")\n",
    "bnb_bsp = np.load(\"Testing/Sentiments/bsp_BNB.npy\",allow_pickle=True)"
   ]
  },
  {
   "cell_type": "code",
   "execution_count": 345,
   "metadata": {},
   "outputs": [],
   "source": [
    "bnb_bsp[bnb_bsp == \"Positive\"] = 1\n",
    "bnb_bsp[bnb_bsp == \"Negative\"] = -1"
   ]
  },
  {
   "cell_type": "code",
   "execution_count": 346,
   "metadata": {},
   "outputs": [],
   "source": [
    "polarity_inc = np.load(\"Testing/Sentiments/inc_polarity.npy\")\n",
    "subjectivity_inc = np.load(\"Testing/Sentiments/inc_subjectivity.npy\")\n",
    "bnb_inc = np.load(\"Testing/Sentiments/inc_BNB.npy\",allow_pickle=True)"
   ]
  },
  {
   "cell_type": "code",
   "execution_count": 347,
   "metadata": {},
   "outputs": [],
   "source": [
    "bnb_inc[bnb_inc == \"Positive\"] = 1\n",
    "bnb_inc[bnb_inc == \"Negative\"] = -1"
   ]
  },
  {
   "cell_type": "code",
   "execution_count": 348,
   "metadata": {},
   "outputs": [],
   "source": [
    "polarity_samaj = np.load(\"Testing/Sentiments/samajwadi_polarity.npy\")\n",
    "subjectivity_samaj = np.load(\"Testing/Sentiments/samajwadi_subjectivity.npy\")\n",
    "bnb_samaj = np.load(\"Testing/Sentiments/samajwadi_subjectivity.npy\",allow_pickle=True)"
   ]
  },
  {
   "cell_type": "code",
   "execution_count": 349,
   "metadata": {},
   "outputs": [
    {
     "name": "stderr",
     "output_type": "stream",
     "text": [
      "/Library/Frameworks/Python.framework/Versions/3.7/lib/python3.7/site-packages/ipykernel_launcher.py:1: FutureWarning: elementwise comparison failed; returning scalar instead, but in the future will perform elementwise comparison\n",
      "  \"\"\"Entry point for launching an IPython kernel.\n",
      "/Library/Frameworks/Python.framework/Versions/3.7/lib/python3.7/site-packages/ipykernel_launcher.py:2: FutureWarning: elementwise comparison failed; returning scalar instead, but in the future will perform elementwise comparison\n",
      "  \n"
     ]
    }
   ],
   "source": [
    "bnb_samaj[bnb_samaj == \"Positive\"] = 1\n",
    "bnb_samaj[bnb_samaj == \"Negative\"] = -1"
   ]
  },
  {
   "cell_type": "code",
   "execution_count": 350,
   "metadata": {},
   "outputs": [],
   "source": [
    "# polarity_gen = np.load(\"Testing/Sentiments/general_polarity.npy\")\n",
    "# subjectivity_gen = np.load(\"Testing/Sentiments/general_subjectivity.npy\")\n",
    "# bnb_gen = np.load(\"Testing/Sentiments/general_BNB.npy\",allow_pickle=True)"
   ]
  },
  {
   "cell_type": "code",
   "execution_count": 351,
   "metadata": {},
   "outputs": [],
   "source": [
    "import pandas as pd"
   ]
  },
  {
   "cell_type": "code",
   "execution_count": 352,
   "metadata": {},
   "outputs": [
    {
     "name": "stderr",
     "output_type": "stream",
     "text": [
      "/Library/Frameworks/Python.framework/Versions/3.7/lib/python3.7/site-packages/IPython/core/interactiveshell.py:3457: DtypeWarning: Columns (0,1,9,21,26) have mixed types.Specify dtype option on import or set low_memory=False.\n",
      "  exec(code_obj, self.user_global_ns, self.user_ns)\n",
      "/Library/Frameworks/Python.framework/Versions/3.7/lib/python3.7/site-packages/IPython/core/interactiveshell.py:3457: DtypeWarning: Columns (9) have mixed types.Specify dtype option on import or set low_memory=False.\n",
      "  exec(code_obj, self.user_global_ns, self.user_ns)\n",
      "/Library/Frameworks/Python.framework/Versions/3.7/lib/python3.7/site-packages/IPython/core/interactiveshell.py:3457: DtypeWarning: Columns (9,21) have mixed types.Specify dtype option on import or set low_memory=False.\n",
      "  exec(code_obj, self.user_global_ns, self.user_ns)\n"
     ]
    }
   ],
   "source": [
    "df_aap = pd.read_csv(\"Datasets/Testing/Categorized/aap.csv\")\n",
    "df_bsp = pd.read_csv(\"Datasets/Testing/Categorized/bsp.csv\")\n",
    "df_general = pd.read_csv(\"Datasets/Testing/Categorized/general.csv\")\n",
    "df_inc = pd.read_csv(\"Datasets/Testing/Categorized/inc.csv\")\n",
    "df_punjab_bjp = pd.read_csv(\"Datasets/Testing/Categorized/punjab_bjp.csv\")\n",
    "df_up_bjp = pd.read_csv(\"Datasets/Testing/Categorized/up_bjp.csv\")\n",
    "df_samajwadi = pd.read_csv(\"Datasets/Testing/Categorized/samajwadi.csv\")"
   ]
  },
  {
   "cell_type": "code",
   "execution_count": 353,
   "metadata": {},
   "outputs": [
    {
     "data": {
      "text/plain": [
       "108953"
      ]
     },
     "execution_count": 353,
     "metadata": {},
     "output_type": "execute_result"
    }
   ],
   "source": [
    "len(df_aap)"
   ]
  },
  {
   "cell_type": "code",
   "execution_count": 354,
   "metadata": {},
   "outputs": [
    {
     "data": {
      "text/plain": [
       "4035"
      ]
     },
     "execution_count": 354,
     "metadata": {},
     "output_type": "execute_result"
    }
   ],
   "source": [
    "len(df_bsp)"
   ]
  },
  {
   "cell_type": "code",
   "execution_count": 355,
   "metadata": {},
   "outputs": [],
   "source": [
    "import pandas as pd"
   ]
  },
  {
   "cell_type": "code",
   "execution_count": 356,
   "metadata": {},
   "outputs": [],
   "source": [
    "# df_aapX\n",
    "# df_bspX\n",
    "# df_general X\n",
    "# df_incX\n",
    "# df_punjab_bjpX\n",
    "# df_up_bjpX\n",
    "# df_samajwadi "
   ]
  },
  {
   "cell_type": "code",
   "execution_count": 357,
   "metadata": {},
   "outputs": [],
   "source": [
    "df_aap[\"vader\"] = polarity_aap\n",
    "df_aap[\"model\"] = bnb_aap\n",
    "df_aap[\"opinion\"] = subjectivity_aap"
   ]
  },
  {
   "cell_type": "code",
   "execution_count": 358,
   "metadata": {},
   "outputs": [],
   "source": [
    "df_up_bjp[\"vader\"] = polarity_bjp_up\n",
    "df_up_bjp[\"model\"] = bnb_bjp_up\n",
    "df_up_bjp[\"opinion\"] = subjectivity_bjp_up"
   ]
  },
  {
   "cell_type": "code",
   "execution_count": 359,
   "metadata": {},
   "outputs": [],
   "source": [
    "df_punjab_bjp[\"vader\"] = polarity_bjp_punjab\n",
    "df_punjab_bjp[\"model\"] = bnb_bjp_punjab\n",
    "df_punjab_bjp[\"opinion\"] = subjectivity_bjp_punjab"
   ]
  },
  {
   "cell_type": "code",
   "execution_count": 360,
   "metadata": {},
   "outputs": [],
   "source": [
    "df_bsp[\"vader\"] = polarity_bsp\n",
    "df_bsp[\"model\"] = bnb_bsp\n",
    "df_bsp[\"opinion\"] = subjectivity_bsp"
   ]
  },
  {
   "cell_type": "code",
   "execution_count": null,
   "metadata": {},
   "outputs": [],
   "source": []
  },
  {
   "cell_type": "code",
   "execution_count": 361,
   "metadata": {},
   "outputs": [],
   "source": [
    "df_inc[\"vader\"] = polarity_inc\n",
    "df_inc[\"model\"] = bnb_inc\n",
    "df_inc[\"opinion\"] = subjectivity_inc"
   ]
  },
  {
   "cell_type": "code",
   "execution_count": 362,
   "metadata": {},
   "outputs": [],
   "source": [
    "# df_general[\"vader\"] = polarity_gen\n",
    "# df_general[\"model\"] = bnb_gen\n",
    "# df_general[\"opinion\"] = subjectivity_inc"
   ]
  },
  {
   "cell_type": "code",
   "execution_count": 363,
   "metadata": {},
   "outputs": [],
   "source": [
    "df_samajwadi[\"vader\"] = polarity_samaj\n",
    "df_samajwadi[\"model\"] = bnb_samaj\n",
    "df_samajwadi[\"opinion\"] = subjectivity_samaj"
   ]
  },
  {
   "cell_type": "code",
   "execution_count": 364,
   "metadata": {},
   "outputs": [],
   "source": [
    "tweets_plan_punjab_1 = pd.DataFrame(index = [\"Punjab\"], columns = ['BJP Positive count',\n",
    "        'BJP Negative count',\n",
    "        'BJP Neutral count',\n",
    "        'BJP Total count',\n",
    "        'INC Positive count',\n",
    "        'INC Negative count',\n",
    "        'INC Neutral count',\n",
    "        'INC Total count',\n",
    "        'AAP Positive count',\n",
    "        'AAP Negative count',\n",
    "        'AAP Neutral count',\n",
    "        'AAP Total count',\n",
    "        \n",
    "        'BJP Positive Sum',\n",
    "        'BJP Negative Sum',\n",
    "        'BJP Total Sum',\n",
    "        'INC Positive Sum',\n",
    "        'INC Negative Sum',\n",
    "        'INC Total Sum',\n",
    "        'AAP Positive Sum',\n",
    "        'AAP Negative Sum',\n",
    "        'AAP Total Sum',\n",
    "        ])\n",
    "\n",
    "tweets_plan_punjab_1 = tweets_plan_punjab_1.fillna(0)\n",
    "\n",
    "tweets_plan_up_1 = pd.DataFrame(index = [\"UP\"], columns = ['BJP Positive count',\n",
    "        'BJP Negative count',\n",
    "        'BJP Neutral count',\n",
    "        'BJP Total count',\n",
    "        'BSP Positive count',\n",
    "        'BSP Negative count',\n",
    "        'BSP Neutral count',\n",
    "        'BSP Total count',\n",
    "        'Samajwadi Positive count',\n",
    "        'Samajwadi Negative count',\n",
    "        'Samajwadi Neutral count',\n",
    "        'Samajwadi Total count',\n",
    "        \n",
    "        'BJP Positive Sum',\n",
    "        'BJP Negative Sum',\n",
    "        'BJP Total Sum',\n",
    "        'BSP Positive Sum',\n",
    "        'BSP Negative Sum',\n",
    "        'BSP Total Sum',\n",
    "        'Samajwadi Positive Sum',\n",
    "        'Samajwadi Negative Sum',\n",
    "        'Samajwadi Total Sum'\n",
    "        ])\n",
    "\n",
    "tweets_plan_up_1 = tweets_plan_up_1.fillna(0)"
   ]
  },
  {
   "cell_type": "code",
   "execution_count": 365,
   "metadata": {},
   "outputs": [],
   "source": [
    "tweets_plan_punjab_2 = pd.DataFrame(index = [\"Punjab\"], columns = ['BJP Positive count',\n",
    "        'BJP Negative count',\n",
    "        'BJP Neutral count',\n",
    "        'BJP Total count',\n",
    "        'INC Positive count',\n",
    "        'INC Negative count',\n",
    "        'INC Neutral count',\n",
    "        'INC Total count',\n",
    "        'AAP Positive count',\n",
    "        'AAP Negative count',\n",
    "        'AAP Neutral count',\n",
    "        'AAP Total count'\n",
    "        ])\n",
    "\n",
    "tweets_plan_punjab_2 = tweets_plan_punjab_2.fillna(0)\n",
    "\n",
    "tweets_plan_up_2 = pd.DataFrame(index = [\"UP\"], columns = ['BJP Positive count',\n",
    "        'BJP Negative count',\n",
    "        'BJP Neutral count',\n",
    "        'BJP Total count',\n",
    "        'BSP Positive count',\n",
    "        'BSP Negative count',\n",
    "        'BSP Neutral count',\n",
    "        'BSP Total count',\n",
    "        'Samajwadi Positive count',\n",
    "        'Samajwadi Negative count',\n",
    "        'Samajwadi Neutral count',\n",
    "        'Samajwadi Total count'\n",
    "        ])\n",
    "\n",
    "tweets_plan_up_2 = tweets_plan_up_2.fillna(0)"
   ]
  },
  {
   "cell_type": "code",
   "execution_count": 366,
   "metadata": {},
   "outputs": [],
   "source": [
    "tweets_plan_punjab_3 = pd.DataFrame(index = [\"Punjab\"], columns = ['BJP Positive count',\n",
    "        'BJP Negative count',\n",
    "        'BJP Neutral count',\n",
    "        'BJP Total count',\n",
    "        'INC Positive count',\n",
    "        'INC Negative count',\n",
    "        'INC Neutral count',\n",
    "        'INC Total count',\n",
    "        'AAP Positive count',\n",
    "        'AAP Negative count',\n",
    "        'AAP Neutral count',\n",
    "        'AAP Total count',\n",
    "        \n",
    "        'BJP Positive Sum',\n",
    "        'BJP Negative Sum',\n",
    "        'BJP Total Sum',\n",
    "        'INC Positive Sum',\n",
    "        'INC Negative Sum',\n",
    "        'INC Total Sum',\n",
    "        'AAP Positive Sum',\n",
    "        'AAP Negative Sum',\n",
    "        'AAP Total Sum',\n",
    "        ])\n",
    "\n",
    "tweets_plan_punjab_3 = tweets_plan_punjab_3.fillna(0)\n",
    "\n",
    "tweets_plan_up_3 = pd.DataFrame(index = [\"UP\"], columns = ['BJP Positive count',\n",
    "        'BJP Negative count',\n",
    "        'BJP Neutral count',\n",
    "        'BJP Total count',\n",
    "        'BSP Positive count',\n",
    "        'BSP Negative count',\n",
    "        'BSP Neutral count',\n",
    "        'BSP Total count',\n",
    "        'Samajwadi Positive count',\n",
    "        'Samajwadi Negative count',\n",
    "        'Samajwadi Neutral count',\n",
    "        'Samajwadi Total count',\n",
    "        \n",
    "        'BJP Positive Sum',\n",
    "        'BJP Negative Sum',\n",
    "        'BJP Total Sum',\n",
    "        'BSP Positive Sum',\n",
    "        'BSP Negative Sum',\n",
    "        'BSP Total Sum',\n",
    "        'Samajwadi Positive Sum',\n",
    "        'Samajwadi Negative Sum',\n",
    "        'Samajwadi Total Sum'\n",
    "        ])\n",
    "\n",
    "tweets_plan_up_3 = tweets_plan_up_3.fillna(0)"
   ]
  },
  {
   "cell_type": "code",
   "execution_count": 367,
   "metadata": {},
   "outputs": [],
   "source": [
    "tweets_plan_punjab_4 = pd.DataFrame(index = [\"Punjab\"], columns = ['BJP Positive count',\n",
    "        'BJP Negative count',\n",
    "        'BJP Neutral count',\n",
    "        'BJP Total count',\n",
    "        'INC Positive count',\n",
    "        'INC Negative count',\n",
    "        'INC Neutral count',\n",
    "        'INC Total count',\n",
    "        'AAP Positive count',\n",
    "        'AAP Negative count',\n",
    "        'AAP Neutral count',\n",
    "        'AAP Total count',\n",
    "        \n",
    "        'BJP Positive Sum',\n",
    "        'BJP Negative Sum',\n",
    "        'BJP Total Sum',\n",
    "        'INC Positive Sum',\n",
    "        'INC Negative Sum',\n",
    "        'INC Total Sum',\n",
    "        'AAP Positive Sum',\n",
    "        'AAP Negative Sum',\n",
    "        'AAP Total Sum',\n",
    "        ])\n",
    "\n",
    "tweets_plan_punjab_4 = tweets_plan_punjab_4.fillna(0)\n",
    "\n",
    "tweets_plan_up_4 = pd.DataFrame(index = [\"UP\"], columns = ['BJP Positive count',\n",
    "        'BJP Negative count',\n",
    "        'BJP Neutral count',\n",
    "        'BJP Total count',\n",
    "        'BSP Positive count',\n",
    "        'BSP Negative count',\n",
    "        'BSP Neutral count',\n",
    "        'BSP Total count',\n",
    "        'Samajwadi Positive count',\n",
    "        'Samajwadi Negative count',\n",
    "        'Samajwadi Neutral count',\n",
    "        'Samajwadi Total count',\n",
    "        \n",
    "        'BJP Positive Sum',\n",
    "        'BJP Negative Sum',\n",
    "        'BJP Total Sum',\n",
    "        'BSP Positive Sum',\n",
    "        'BSP Negative Sum',\n",
    "        'BSP Total Sum',\n",
    "        'Samajwadi Positive Sum',\n",
    "        'Samajwadi Negative Sum',\n",
    "        'Samajwadi Total Sum'\n",
    "        ])\n",
    "\n",
    "tweets_plan_up_4 = tweets_plan_up_4.fillna(0)"
   ]
  },
  {
   "cell_type": "code",
   "execution_count": 368,
   "metadata": {},
   "outputs": [],
   "source": [
    "tweets_plan_punjab_5 = pd.DataFrame(index = [\"Punjab\"], columns = ['BJP Positive count',\n",
    "        'BJP Negative count',\n",
    "        'BJP Neutral count',\n",
    "        'BJP Total count',\n",
    "        'INC Positive count',\n",
    "        'INC Negative count',\n",
    "        'INC Neutral count',\n",
    "        'INC Total count',\n",
    "        'AAP Positive count',\n",
    "        'AAP Negative count',\n",
    "        'AAP Neutral count',\n",
    "        'AAP Total count',\n",
    "        \n",
    "        'BJP Positive Sum',\n",
    "        'BJP Negative Sum',\n",
    "        'BJP Total Sum',\n",
    "        'INC Positive Sum',\n",
    "        'INC Negative Sum',\n",
    "        'INC Total Sum',\n",
    "        'AAP Positive Sum',\n",
    "        'AAP Negative Sum',\n",
    "        'AAP Total Sum',\n",
    "        ])\n",
    "\n",
    "tweets_plan_punjab_5 = tweets_plan_punjab_5.fillna(0)\n",
    "\n",
    "tweets_plan_up_5 = pd.DataFrame(index = [\"UP\"], columns = ['BJP Positive count',\n",
    "        'BJP Negative count',\n",
    "        'BJP Neutral count',\n",
    "        'BJP Total count',\n",
    "        'BSP Positive count',\n",
    "        'BSP Negative count',\n",
    "        'BSP Neutral count',\n",
    "        'BSP Total count',\n",
    "        'Samajwadi Positive count',\n",
    "        'Samajwadi Negative count',\n",
    "        'Samajwadi Neutral count',\n",
    "        'Samajwadi Total count',\n",
    "        \n",
    "        'BJP Positive Sum',\n",
    "        'BJP Negative Sum',\n",
    "        'BJP Total Sum',\n",
    "        'BSP Positive Sum',\n",
    "        'BSP Negative Sum',\n",
    "        'BSP Total Sum',\n",
    "        'Samajwadi Positive Sum',\n",
    "        'Samajwadi Negative Sum',\n",
    "        'Samajwadi Total Sum'\n",
    "        ])\n",
    "\n",
    "tweets_plan_up_5 = tweets_plan_up_5.fillna(0)"
   ]
  },
  {
   "cell_type": "code",
   "execution_count": 369,
   "metadata": {},
   "outputs": [],
   "source": [
    "import time"
   ]
  },
  {
   "cell_type": "code",
   "execution_count": 370,
   "metadata": {},
   "outputs": [],
   "source": [
    "def update_df(df_donald,name,state,vader_df,trained_df,op_vader,op_trained,vader_bnb_trained):\n",
    "    \n",
    "    for index, row in df_donald.iterrows():\n",
    "            # update vader count (!Idea1)\n",
    "            start = time.time()\n",
    "            if (row.vader>0):\n",
    "                vader_df.at[f'{state}', f'{name} Positive Sum'] += row.vader\n",
    "                vader_df.at[f'{state}',f'{name} Total Sum'] += row.vader\n",
    "                vader_df.at[f'{state}',f'{name} Positive count'] += 1\n",
    "                vader_df.at[f'{state}',f'{name} Total count'] += 1\n",
    "                # end = time.time()\n",
    "                # print(end-start)\n",
    "                # print(\"update vader+\")\n",
    "            elif (row.vader<0):\n",
    "                vader_df.at[f'{state}',f'{name} Negative Sum'] += row.vader\n",
    "                vader_df.at[f'{state}',f'{name} Total Sum'] += row.vader\n",
    "                vader_df.at[f'{state}',f'{name} Negative count'] += 1\n",
    "                vader_df.at[f'{state}',f'{name} Total count'] += 1\n",
    "                # end = time.time()\n",
    "                # print(end-start)\n",
    "                # print(\"update vader-\")\n",
    "            else:\n",
    "                vader_df.at[f'{state}',f'{name} Neutral count'] += 1\n",
    "                vader_df.at[f'{state}',f'{name} Total count'] += 1\n",
    "                # end = time.time()\n",
    "                # print(end-start)\n",
    "                # print(\"update vader=\")\n",
    "\n",
    "            start = time.time()\n",
    "            # update trained count (!Idea2)\n",
    "            if (row.model>0):\n",
    "                \n",
    "                trained_df.at[f'{state}',f'{name} Positive count'] += 1\n",
    "                trained_df.at[f'{state}',f'{name} Total count'] += 1\n",
    "                # end = time.time()\n",
    "                # print(end-start)\n",
    "                # print(\"update trained+\")\n",
    "                \n",
    "            else:\n",
    "                trained_df.at[f'{state}',f'{name} Negative count'] += 1\n",
    "                trained_df.at[f'{state}',f'{name} Total count'] += 1\n",
    "                # end = time.time()\n",
    "                # print(end-start)\n",
    "                # print(\"update trained-\")\n",
    "\n",
    "            start = time.time()\n",
    "            # update weighted count (!Idea3)\n",
    "            if (row.vader>0):\n",
    "                op_vader.at[f'{state}',f'{name} Positive Sum'] += row.vader*row.opinion\n",
    "                op_vader.at[f'{state}',f'{name} Total Sum'] += row.vader*row.opinion\n",
    "                op_vader.at[f'{state}',f'{name} Positive count'] += 1\n",
    "                op_vader.at[f'{state}',f'{name} Total count'] += 1\n",
    "                # end = time.time()\n",
    "                # print(end-start)\n",
    "                # print(\"vader weight+\")\n",
    "            elif (row.vader<0):\n",
    "                op_vader.at[f'{state}',f'{name} Negative Sum'] += row.vader*row.opinion\n",
    "                op_vader.at[f'{state}',f'{name} Total Sum'] += row.vader*row.opinion\n",
    "                op_vader.at[f'{state}',f'{name} Negative count'] += 1\n",
    "                op_vader.at[f'{state}',f'{name} Total count'] += 1\n",
    "                # end = time.time()\n",
    "                # print(end-start)\n",
    "                # print(\"vader weight-\")\n",
    "            else:\n",
    "                op_vader.at[f'{state}',f'{name} Neutral count'] += 1\n",
    "                # end = time.time()\n",
    "                # print(end-start)\n",
    "                # print(\"vader weight=\")\n",
    "\n",
    "            start = time.time()\n",
    "            # update weighted count (!Idea4)\n",
    "            if (row.model>0):\n",
    "                op_trained.at[f'{state}',f'{name} Positive Sum'] += row.model*row.opinion\n",
    "                op_trained.at[f'{state}',f'{name} Total Sum'] += row.model*row.opinion\n",
    "                op_trained.at[f'{state}',f'{name} Positive count'] += 1\n",
    "                op_trained.at[f'{state}',f'{name} Total count'] += 1\n",
    "                # end = time.time()\n",
    "                # print(end-start)\n",
    "                # print(\"trained weight+\")\n",
    "            else:\n",
    "                op_trained.at[f'{state}',f'{name} Negative Sum'] += row.model*row.opinion\n",
    "                op_trained.at[f'{state}',f'{name} Total Sum'] += row.model*row.opinion\n",
    "                op_trained.at[f'{state}',f'{name} Negative count'] += 1\n",
    "                op_trained.at[f'{state}',f'{name} Total count'] += 1\n",
    "\n",
    "            if (row.model>0 and row.vader>0):\n",
    "                vader_bnb_trained.at[f'{state}',f'{name} Positive Sum'] += row.vader*row.model\n",
    "                vader_bnb_trained.at[f'{state}',f'{name} Total Sum'] += row.vader*row.model\n",
    "                vader_bnb_trained.at[f'{state}',f'{name} Positive count'] += 1\n",
    "                vader_bnb_trained.at[f'{state}',f'{name} Total count'] += 1\n",
    "                # end = time.time()\n",
    "                # print(end-start)\n",
    "                # print(\"trained weight+\")\n",
    "            else:\n",
    "                vader_bnb_trained.at[f'{state}',f'{name} Negative Sum'] += row.vader*row.model\n",
    "                vader_bnb_trained.at[f'{state}',f'{name} Total Sum'] += row.vader*row.model\n",
    "                vader_bnb_trained.at[f'{state}',f'{name} Negative count'] += 1\n",
    "                vader_bnb_trained.at[f'{state}',f'{name} Total count'] += 1\n",
    "                # end = time.time()\n",
    "                # print(end-start)\n",
    "                # print(\"trained weight-\")\n",
    "    vader_df[f'{name} Total count'] = vader_df[f'{name} Positive count'] + vader_df[f'{name} Neutral count'] + vader_df[f'{name} Negative count']\n",
    "    vader_df[f'{name} Total Sum'] = vader_df[f'{name} Positive Sum'] + vader_df[f'{name} Negative Sum']\n",
    "\n",
    "    trained_df[f'{name} Total count'] = trained_df[f'{name} Positive count'] + trained_df[f'{name} Neutral count'] + trained_df[f'{name} Negative count']\n",
    "    # trained_df[f'{name} Total Sum'] = trained_df[f'{name} Positive Sum'] + trained_df[f'{name} Negative Sum']\n",
    "\n",
    "    op_vader[f'{name} Total count'] = op_vader[f'{name} Positive count'] + op_vader[f'{name} Neutral count'] + op_vader[f'{name} Negative count']\n",
    "    op_vader[f'{name} Total Sum'] = op_vader[f'{name} Positive Sum'] + op_vader[f'{name} Negative Sum']\n",
    "\n",
    "    op_trained[f'{name} Total count'] = op_trained[f'{name} Positive count'] + op_trained[f'{name} Neutral count'] + op_trained[f'{name} Negative count']\n",
    "    op_trained[f'{name} Total Sum'] = op_trained[f'{name} Positive Sum'] + op_trained[f'{name} Negative Sum']\n",
    "\n",
    "    vader_bnb_trained[f'{name} Total count'] = vader_bnb_trained[f'{name} Positive count'] + vader_bnb_trained[f'{name} Neutral count'] + vader_bnb_trained[f'{name} Negative count']\n",
    "    vader_bnb_trained[f'{name} Total Sum'] = vader_bnb_trained[f'{name} Positive Sum'] + vader_bnb_trained[f'{name} Negative Sum']\n",
    "\n",
    "    return (vader_df,trained_df,op_vader,op_trained,vader_bnb_trained)"
   ]
  },
  {
   "cell_type": "code",
   "execution_count": 371,
   "metadata": {},
   "outputs": [
    {
     "data": {
      "text/html": [
       "<div>\n",
       "<style scoped>\n",
       "    .dataframe tbody tr th:only-of-type {\n",
       "        vertical-align: middle;\n",
       "    }\n",
       "\n",
       "    .dataframe tbody tr th {\n",
       "        vertical-align: top;\n",
       "    }\n",
       "\n",
       "    .dataframe thead th {\n",
       "        text-align: right;\n",
       "    }\n",
       "</style>\n",
       "<table border=\"1\" class=\"dataframe\">\n",
       "  <thead>\n",
       "    <tr style=\"text-align: right;\">\n",
       "      <th></th>\n",
       "      <th>BJP Positive count</th>\n",
       "      <th>BJP Negative count</th>\n",
       "      <th>BJP Neutral count</th>\n",
       "      <th>BJP Total count</th>\n",
       "      <th>INC Positive count</th>\n",
       "      <th>INC Negative count</th>\n",
       "      <th>INC Neutral count</th>\n",
       "      <th>INC Total count</th>\n",
       "      <th>AAP Positive count</th>\n",
       "      <th>AAP Negative count</th>\n",
       "      <th>...</th>\n",
       "      <th>AAP Total count</th>\n",
       "      <th>BJP Positive Sum</th>\n",
       "      <th>BJP Negative Sum</th>\n",
       "      <th>BJP Total Sum</th>\n",
       "      <th>INC Positive Sum</th>\n",
       "      <th>INC Negative Sum</th>\n",
       "      <th>INC Total Sum</th>\n",
       "      <th>AAP Positive Sum</th>\n",
       "      <th>AAP Negative Sum</th>\n",
       "      <th>AAP Total Sum</th>\n",
       "    </tr>\n",
       "  </thead>\n",
       "  <tbody>\n",
       "    <tr>\n",
       "      <th>Punjab</th>\n",
       "      <td>0</td>\n",
       "      <td>0</td>\n",
       "      <td>0</td>\n",
       "      <td>0</td>\n",
       "      <td>0</td>\n",
       "      <td>0</td>\n",
       "      <td>0</td>\n",
       "      <td>0</td>\n",
       "      <td>0</td>\n",
       "      <td>0</td>\n",
       "      <td>...</td>\n",
       "      <td>0</td>\n",
       "      <td>0</td>\n",
       "      <td>0</td>\n",
       "      <td>0</td>\n",
       "      <td>0</td>\n",
       "      <td>0</td>\n",
       "      <td>0</td>\n",
       "      <td>0</td>\n",
       "      <td>0</td>\n",
       "      <td>0</td>\n",
       "    </tr>\n",
       "  </tbody>\n",
       "</table>\n",
       "<p>1 rows × 21 columns</p>\n",
       "</div>"
      ],
      "text/plain": [
       "        BJP Positive count  BJP Negative count  BJP Neutral count  \\\n",
       "Punjab                   0                   0                  0   \n",
       "\n",
       "        BJP Total count  INC Positive count  INC Negative count  \\\n",
       "Punjab                0                   0                   0   \n",
       "\n",
       "        INC Neutral count  INC Total count  AAP Positive count  \\\n",
       "Punjab                  0                0                   0   \n",
       "\n",
       "        AAP Negative count  ...  AAP Total count  BJP Positive Sum  \\\n",
       "Punjab                   0  ...                0                 0   \n",
       "\n",
       "        BJP Negative Sum  BJP Total Sum  INC Positive Sum  INC Negative Sum  \\\n",
       "Punjab                 0              0                 0                 0   \n",
       "\n",
       "        INC Total Sum  AAP Positive Sum  AAP Negative Sum  AAP Total Sum  \n",
       "Punjab              0                 0                 0              0  \n",
       "\n",
       "[1 rows x 21 columns]"
      ]
     },
     "execution_count": 371,
     "metadata": {},
     "output_type": "execute_result"
    }
   ],
   "source": [
    "tweets_plan_punjab_3"
   ]
  },
  {
   "cell_type": "code",
   "execution_count": 372,
   "metadata": {},
   "outputs": [],
   "source": [
    "import numpy as np\n",
    "import pandas as pd"
   ]
  },
  {
   "cell_type": "code",
   "execution_count": 373,
   "metadata": {},
   "outputs": [
    {
     "name": "stdout",
     "output_type": "stream",
     "text": [
      "        BJP Positive count  BJP Negative count  BJP Neutral count  \\\n",
      "Punjab                   0                   0                  0   \n",
      "\n",
      "        BJP Total count  INC Positive count  INC Negative count  \\\n",
      "Punjab                0                   0                   0   \n",
      "\n",
      "        INC Neutral count  INC Total count  AAP Positive count  \\\n",
      "Punjab                  0                0               45261   \n",
      "\n",
      "        AAP Negative count  ...  AAP Total count  BJP Positive Sum  \\\n",
      "Punjab               20088  ...           108953                 0   \n",
      "\n",
      "        BJP Negative Sum  BJP Total Sum  INC Positive Sum  INC Negative Sum  \\\n",
      "Punjab                 0              0                 0                 0   \n",
      "\n",
      "        INC Total Sum  AAP Positive Sum  AAP Negative Sum  AAP Total Sum  \n",
      "Punjab              0              1339              -358            981  \n",
      "\n",
      "[1 rows x 21 columns]\n"
     ]
    }
   ],
   "source": [
    "tweets_plan_punjab_1, tweets_plan_punjab_2, tweets_plan_punjab_3, tweets_plan_punjab_4, tweets_plan_punjab_5 = update_df(df_aap,\"AAP\",\"Punjab\",tweets_plan_punjab_1, tweets_plan_punjab_2, tweets_plan_punjab_3, tweets_plan_punjab_4, tweets_plan_punjab_5)\n",
    "print(tweets_plan_punjab_1)\n",
    "tweets_plan_punjab_1, tweets_plan_punjab_2, tweets_plan_punjab_3, tweets_plan_punjab_4, tweets_plan_punjab_5 = update_df(df_punjab_bjp,\"BJP\",\"Punjab\",tweets_plan_punjab_1, tweets_plan_punjab_2, tweets_plan_punjab_3, tweets_plan_punjab_4, tweets_plan_punjab_5)\n",
    "tweets_plan_punjab_1, tweets_plan_punjab_2, tweets_plan_punjab_3, tweets_plan_punjab_4, tweets_plan_punjab_5 = update_df(df_inc,\"INC\",\"Punjab\",tweets_plan_punjab_1, tweets_plan_punjab_2, tweets_plan_punjab_3, tweets_plan_punjab_4, tweets_plan_punjab_5)"
   ]
  },
  {
   "cell_type": "code",
   "execution_count": 374,
   "metadata": {},
   "outputs": [],
   "source": [
    "tweets_plan_up_1, tweets_plan_up_2, tweets_plan_up_3, tweets_plan_up_4,tweets_plan_up_5 = update_df(df_bsp,\"BSP\",\"UP\",tweets_plan_up_1, tweets_plan_up_2, tweets_plan_up_3, tweets_plan_up_4, tweets_plan_up_5)\n",
    "tweets_plan_up_1, tweets_plan_up_2, tweets_plan_up_3, tweets_plan_up_4,tweets_plan_up_5 = update_df(df_up_bjp,\"BJP\",\"UP\",tweets_plan_up_1, tweets_plan_up_2, tweets_plan_up_3, tweets_plan_up_4, tweets_plan_up_5)\n",
    "tweets_plan_up_1, tweets_plan_up_2, tweets_plan_up_3, tweets_plan_up_4,tweets_plan_up_5 = update_df(df_samajwadi,\"Samajwadi\",\"UP\",tweets_plan_up_1, tweets_plan_up_2, tweets_plan_up_3, tweets_plan_up_4, tweets_plan_up_5)"
   ]
  },
  {
   "cell_type": "code",
   "execution_count": 375,
   "metadata": {},
   "outputs": [],
   "source": [
    "tweets_plan_punjab_1.to_csv(\"Datasets/Testing/Categorized/punjab_total_idea1.csv\")\n",
    "tweets_plan_punjab_2.to_csv(\"Datasets/Testing/Categorized/punjab_total_idea2.csv\")\n",
    "tweets_plan_punjab_3.to_csv(\"Datasets/Testing/Categorized/punjab_total_idea3.csv\")\n",
    "tweets_plan_punjab_4.to_csv(\"Datasets/Testing/Categorized/punjab_total_idea4.csv\")\n",
    "tweets_plan_punjab_5.to_csv(\"Datasets/Testing/Categorized/punjab_total_idea5.csv\")"
   ]
  },
  {
   "cell_type": "code",
   "execution_count": 376,
   "metadata": {},
   "outputs": [],
   "source": [
    "tweets_plan_up_1.to_csv(\"Datasets/Testing/Categorized/up_total_idea1.csv\")\n",
    "tweets_plan_up_2.to_csv(\"Datasets/Testing/Categorized/up_total_idea2.csv\")\n",
    "tweets_plan_up_3.to_csv(\"Datasets/Testing/Categorized/up_total_idea3.csv\")\n",
    "tweets_plan_up_4.to_csv(\"Datasets/Testing/Categorized/up_total_idea4.csv\")\n",
    "tweets_plan_up_5.to_csv(\"Datasets/Testing/Categorized/up_total_idea5.csv\")"
   ]
  },
  {
   "cell_type": "code",
   "execution_count": null,
   "metadata": {},
   "outputs": [],
   "source": []
  }
 ],
 "metadata": {
  "interpreter": {
   "hash": "de09c7438fc99debde8ba98e2a1b35288d8cbe1dd9640d4b1485fa0e3c979efd"
  },
  "kernelspec": {
   "display_name": "Python 3.8.8 ('base')",
   "language": "python",
   "name": "python3"
  },
  "language_info": {
   "codemirror_mode": {
    "name": "ipython",
    "version": 3
   },
   "file_extension": ".py",
   "mimetype": "text/x-python",
   "name": "python",
   "nbconvert_exporter": "python",
   "pygments_lexer": "ipython3",
   "version": "3.7.9"
  },
  "orig_nbformat": 4
 },
 "nbformat": 4,
 "nbformat_minor": 2
}
