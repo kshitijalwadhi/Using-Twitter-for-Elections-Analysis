{
 "cells": [
  {
   "cell_type": "code",
   "execution_count": 1,
   "metadata": {},
   "outputs": [],
   "source": [
    "import pandas as pd \n",
    "import numpy as np\n",
    "import math"
   ]
  },
  {
   "cell_type": "code",
   "execution_count": 2,
   "metadata": {},
   "outputs": [],
   "source": [
    "res = pd.read_csv(\"results.csv\")\n",
    "res.rename(columns={'Unnamed: 0':'State'}, inplace=True)\n",
    "res = res.iloc[:-1]"
   ]
  },
  {
   "cell_type": "code",
   "execution_count": 3,
   "metadata": {},
   "outputs": [],
   "source": [
    "vader = pd.read_csv(\"statewise_total_idea1.csv\")\n",
    "vader.rename(columns={'Unnamed: 0':'State'}, inplace=True)"
   ]
  },
  {
   "cell_type": "code",
   "execution_count": 4,
   "metadata": {},
   "outputs": [],
   "source": [
    "bnb = pd.read_csv(\"statewise_total_idea2.csv\")\n",
    "bnb.rename(columns={'Unnamed: 0':'State'}, inplace=True)"
   ]
  },
  {
   "cell_type": "code",
   "execution_count": 5,
   "metadata": {},
   "outputs": [],
   "source": [
    "vader_subj = pd.read_csv(\"statewise_total_idea3.csv\")\n",
    "vader_subj.rename(columns={'Unnamed: 0':'State'}, inplace=True)"
   ]
  },
  {
   "cell_type": "code",
   "execution_count": 6,
   "metadata": {},
   "outputs": [],
   "source": [
    "bnb_subj = pd.read_csv(\"statewise_total_idea4.csv\")\n",
    "bnb_subj.rename(columns={'Unnamed: 0':'State'}, inplace=True)"
   ]
  },
  {
   "cell_type": "code",
   "execution_count": 7,
   "metadata": {},
   "outputs": [],
   "source": [
    "vader_bnb = pd.read_csv(\"statewise_total_idea5.csv\")\n",
    "vader_bnb.rename(columns={'Unnamed: 0':'State'}, inplace=True)"
   ]
  },
  {
   "cell_type": "code",
   "execution_count": 8,
   "metadata": {},
   "outputs": [],
   "source": [
    "sentiment = \"vader\"\n",
    "if sentiment==\"bnb\":\n",
    "    df = bnb\n",
    "elif sentiment==\"vader\":\n",
    "    df = vader\n",
    "elif sentiment==\"vader_subj\":\n",
    "    df = vader_subj\n",
    "elif sentiment==\"bnb_subj\":\n",
    "    df = bnb_subj\n",
    "elif sentiment==\"vader_bnb\":\n",
    "    df = vader_bnb\n",
    "df['Actual Biden Percentage'] = res['Biden Percentage']\n",
    "df['Actual Trump Percentage'] = res['Trump Percentage']\n",
    "df['Actual Winner'] = res[\"Winner\"]\n",
    "df[\"Total Tweets\"] = df[\"Trump Total count\"] + df[\"Biden Total count\"]"
   ]
  },
  {
   "cell_type": "code",
   "execution_count": 9,
   "metadata": {},
   "outputs": [
    {
     "data": {
      "text/html": [
       "<div>\n",
       "<style scoped>\n",
       "    .dataframe tbody tr th:only-of-type {\n",
       "        vertical-align: middle;\n",
       "    }\n",
       "\n",
       "    .dataframe tbody tr th {\n",
       "        vertical-align: top;\n",
       "    }\n",
       "\n",
       "    .dataframe thead th {\n",
       "        text-align: right;\n",
       "    }\n",
       "</style>\n",
       "<table border=\"1\" class=\"dataframe\">\n",
       "  <thead>\n",
       "    <tr style=\"text-align: right;\">\n",
       "      <th></th>\n",
       "      <th>State</th>\n",
       "      <th>Trump Positive count</th>\n",
       "      <th>Trump Negative count</th>\n",
       "      <th>Trump Neutral count</th>\n",
       "      <th>Trump Total count</th>\n",
       "      <th>Biden Positive count</th>\n",
       "      <th>Biden Negative count</th>\n",
       "      <th>Biden Neutral count</th>\n",
       "      <th>Biden Total count</th>\n",
       "      <th>Trump Positive Sum</th>\n",
       "      <th>Trump Negative Sum</th>\n",
       "      <th>Trump Total Sum</th>\n",
       "      <th>Biden Positive Sum</th>\n",
       "      <th>Biden Negative Sum</th>\n",
       "      <th>Biden Total Sum</th>\n",
       "      <th>Actual Biden Percentage</th>\n",
       "      <th>Actual Trump Percentage</th>\n",
       "      <th>Actual Winner</th>\n",
       "      <th>Total Tweets</th>\n",
       "    </tr>\n",
       "  </thead>\n",
       "  <tbody>\n",
       "    <tr>\n",
       "      <th>0</th>\n",
       "      <td>Alabama</td>\n",
       "      <td>353</td>\n",
       "      <td>160</td>\n",
       "      <td>336</td>\n",
       "      <td>849</td>\n",
       "      <td>329</td>\n",
       "      <td>155</td>\n",
       "      <td>380</td>\n",
       "      <td>864</td>\n",
       "      <td>112</td>\n",
       "      <td>44</td>\n",
       "      <td>156</td>\n",
       "      <td>113</td>\n",
       "      <td>36</td>\n",
       "      <td>150</td>\n",
       "      <td>0.37</td>\n",
       "      <td>0.62</td>\n",
       "      <td>Trump</td>\n",
       "      <td>1713</td>\n",
       "    </tr>\n",
       "    <tr>\n",
       "      <th>1</th>\n",
       "      <td>Alaska</td>\n",
       "      <td>145</td>\n",
       "      <td>52</td>\n",
       "      <td>114</td>\n",
       "      <td>311</td>\n",
       "      <td>158</td>\n",
       "      <td>104</td>\n",
       "      <td>167</td>\n",
       "      <td>429</td>\n",
       "      <td>34</td>\n",
       "      <td>13</td>\n",
       "      <td>48</td>\n",
       "      <td>50</td>\n",
       "      <td>22</td>\n",
       "      <td>73</td>\n",
       "      <td>0.43</td>\n",
       "      <td>0.53</td>\n",
       "      <td>Trump</td>\n",
       "      <td>740</td>\n",
       "    </tr>\n",
       "    <tr>\n",
       "      <th>2</th>\n",
       "      <td>Arizona</td>\n",
       "      <td>1133</td>\n",
       "      <td>630</td>\n",
       "      <td>1102</td>\n",
       "      <td>2865</td>\n",
       "      <td>1258</td>\n",
       "      <td>566</td>\n",
       "      <td>1424</td>\n",
       "      <td>3248</td>\n",
       "      <td>334</td>\n",
       "      <td>178</td>\n",
       "      <td>513</td>\n",
       "      <td>416</td>\n",
       "      <td>151</td>\n",
       "      <td>567</td>\n",
       "      <td>0.49</td>\n",
       "      <td>0.49</td>\n",
       "      <td>Biden</td>\n",
       "      <td>6113</td>\n",
       "    </tr>\n",
       "    <tr>\n",
       "      <th>3</th>\n",
       "      <td>Arkansas</td>\n",
       "      <td>205</td>\n",
       "      <td>133</td>\n",
       "      <td>275</td>\n",
       "      <td>613</td>\n",
       "      <td>210</td>\n",
       "      <td>73</td>\n",
       "      <td>186</td>\n",
       "      <td>469</td>\n",
       "      <td>58</td>\n",
       "      <td>32</td>\n",
       "      <td>90</td>\n",
       "      <td>70</td>\n",
       "      <td>18</td>\n",
       "      <td>88</td>\n",
       "      <td>0.35</td>\n",
       "      <td>0.62</td>\n",
       "      <td>Trump</td>\n",
       "      <td>1082</td>\n",
       "    </tr>\n",
       "    <tr>\n",
       "      <th>4</th>\n",
       "      <td>California</td>\n",
       "      <td>10906</td>\n",
       "      <td>7118</td>\n",
       "      <td>13128</td>\n",
       "      <td>31152</td>\n",
       "      <td>10266</td>\n",
       "      <td>4223</td>\n",
       "      <td>11329</td>\n",
       "      <td>25818</td>\n",
       "      <td>3279</td>\n",
       "      <td>1959</td>\n",
       "      <td>5238</td>\n",
       "      <td>3528</td>\n",
       "      <td>1084</td>\n",
       "      <td>4612</td>\n",
       "      <td>0.63</td>\n",
       "      <td>0.34</td>\n",
       "      <td>Biden</td>\n",
       "      <td>56970</td>\n",
       "    </tr>\n",
       "  </tbody>\n",
       "</table>\n",
       "</div>"
      ],
      "text/plain": [
       "        State  Trump Positive count  Trump Negative count  \\\n",
       "0     Alabama                   353                   160   \n",
       "1      Alaska                   145                    52   \n",
       "2     Arizona                  1133                   630   \n",
       "3    Arkansas                   205                   133   \n",
       "4  California                 10906                  7118   \n",
       "\n",
       "   Trump Neutral count  Trump Total count  Biden Positive count  \\\n",
       "0                  336                849                   329   \n",
       "1                  114                311                   158   \n",
       "2                 1102               2865                  1258   \n",
       "3                  275                613                   210   \n",
       "4                13128              31152                 10266   \n",
       "\n",
       "   Biden Negative count  Biden Neutral count  Biden Total count  \\\n",
       "0                   155                  380                864   \n",
       "1                   104                  167                429   \n",
       "2                   566                 1424               3248   \n",
       "3                    73                  186                469   \n",
       "4                  4223                11329              25818   \n",
       "\n",
       "   Trump Positive Sum  Trump Negative Sum  Trump Total Sum  \\\n",
       "0                 112                  44              156   \n",
       "1                  34                  13               48   \n",
       "2                 334                 178              513   \n",
       "3                  58                  32               90   \n",
       "4                3279                1959             5238   \n",
       "\n",
       "   Biden Positive Sum  Biden Negative Sum  Biden Total Sum  \\\n",
       "0                 113                  36              150   \n",
       "1                  50                  22               73   \n",
       "2                 416                 151              567   \n",
       "3                  70                  18               88   \n",
       "4                3528                1084             4612   \n",
       "\n",
       "   Actual Biden Percentage  Actual Trump Percentage Actual Winner  \\\n",
       "0                     0.37                     0.62         Trump   \n",
       "1                     0.43                     0.53         Trump   \n",
       "2                     0.49                     0.49         Biden   \n",
       "3                     0.35                     0.62         Trump   \n",
       "4                     0.63                     0.34         Biden   \n",
       "\n",
       "   Total Tweets  \n",
       "0          1713  \n",
       "1           740  \n",
       "2          6113  \n",
       "3          1082  \n",
       "4         56970  "
      ]
     },
     "execution_count": 9,
     "metadata": {},
     "output_type": "execute_result"
    }
   ],
   "source": [
    "df.head()"
   ]
  },
  {
   "cell_type": "code",
   "execution_count": 10,
   "metadata": {},
   "outputs": [
    {
     "data": {
      "text/html": [
       "<div>\n",
       "<style scoped>\n",
       "    .dataframe tbody tr th:only-of-type {\n",
       "        vertical-align: middle;\n",
       "    }\n",
       "\n",
       "    .dataframe tbody tr th {\n",
       "        vertical-align: top;\n",
       "    }\n",
       "\n",
       "    .dataframe thead th {\n",
       "        text-align: right;\n",
       "    }\n",
       "</style>\n",
       "<table border=\"1\" class=\"dataframe\">\n",
       "  <thead>\n",
       "    <tr style=\"text-align: right;\">\n",
       "      <th></th>\n",
       "      <th>Trump Positive count</th>\n",
       "      <th>Trump Negative count</th>\n",
       "      <th>Trump Neutral count</th>\n",
       "      <th>Trump Total count</th>\n",
       "      <th>Biden Positive count</th>\n",
       "      <th>Biden Negative count</th>\n",
       "      <th>Biden Neutral count</th>\n",
       "      <th>Biden Total count</th>\n",
       "      <th>Trump Positive Sum</th>\n",
       "      <th>Trump Negative Sum</th>\n",
       "      <th>Trump Total Sum</th>\n",
       "      <th>Biden Positive Sum</th>\n",
       "      <th>Biden Negative Sum</th>\n",
       "      <th>Biden Total Sum</th>\n",
       "      <th>Actual Biden Percentage</th>\n",
       "      <th>Actual Trump Percentage</th>\n",
       "      <th>Total Tweets</th>\n",
       "    </tr>\n",
       "  </thead>\n",
       "  <tbody>\n",
       "    <tr>\n",
       "      <th>count</th>\n",
       "      <td>50.000000</td>\n",
       "      <td>50.00000</td>\n",
       "      <td>50.000000</td>\n",
       "      <td>50.000000</td>\n",
       "      <td>50.000000</td>\n",
       "      <td>50.000000</td>\n",
       "      <td>50.000000</td>\n",
       "      <td>50.000000</td>\n",
       "      <td>50.000000</td>\n",
       "      <td>50.000000</td>\n",
       "      <td>50.000000</td>\n",
       "      <td>50.000000</td>\n",
       "      <td>50.000000</td>\n",
       "      <td>50.000000</td>\n",
       "      <td>50.000000</td>\n",
       "      <td>50.00000</td>\n",
       "      <td>50.000000</td>\n",
       "    </tr>\n",
       "    <tr>\n",
       "      <th>mean</th>\n",
       "      <td>1283.420000</td>\n",
       "      <td>800.82000</td>\n",
       "      <td>1453.820000</td>\n",
       "      <td>3538.060000</td>\n",
       "      <td>1161.360000</td>\n",
       "      <td>506.140000</td>\n",
       "      <td>1368.040000</td>\n",
       "      <td>3035.540000</td>\n",
       "      <td>387.560000</td>\n",
       "      <td>215.580000</td>\n",
       "      <td>603.620000</td>\n",
       "      <td>390.760000</td>\n",
       "      <td>130.240000</td>\n",
       "      <td>521.420000</td>\n",
       "      <td>0.477400</td>\n",
       "      <td>0.50080</td>\n",
       "      <td>6573.600000</td>\n",
       "    </tr>\n",
       "    <tr>\n",
       "      <th>std</th>\n",
       "      <td>2145.979697</td>\n",
       "      <td>1349.77272</td>\n",
       "      <td>2574.120358</td>\n",
       "      <td>6061.082726</td>\n",
       "      <td>2021.850837</td>\n",
       "      <td>835.438661</td>\n",
       "      <td>2272.798885</td>\n",
       "      <td>5122.220741</td>\n",
       "      <td>650.508974</td>\n",
       "      <td>367.467288</td>\n",
       "      <td>1016.570142</td>\n",
       "      <td>680.550034</td>\n",
       "      <td>217.966536</td>\n",
       "      <td>896.925886</td>\n",
       "      <td>0.103506</td>\n",
       "      <td>0.10325</td>\n",
       "      <td>11172.466293</td>\n",
       "    </tr>\n",
       "    <tr>\n",
       "      <th>min</th>\n",
       "      <td>24.000000</td>\n",
       "      <td>13.00000</td>\n",
       "      <td>38.000000</td>\n",
       "      <td>75.000000</td>\n",
       "      <td>43.000000</td>\n",
       "      <td>21.000000</td>\n",
       "      <td>22.000000</td>\n",
       "      <td>86.000000</td>\n",
       "      <td>7.000000</td>\n",
       "      <td>4.000000</td>\n",
       "      <td>11.000000</td>\n",
       "      <td>11.000000</td>\n",
       "      <td>5.000000</td>\n",
       "      <td>16.000000</td>\n",
       "      <td>0.270000</td>\n",
       "      <td>0.31000</td>\n",
       "      <td>161.000000</td>\n",
       "    </tr>\n",
       "    <tr>\n",
       "      <th>25%</th>\n",
       "      <td>201.250000</td>\n",
       "      <td>107.50000</td>\n",
       "      <td>216.250000</td>\n",
       "      <td>528.500000</td>\n",
       "      <td>159.500000</td>\n",
       "      <td>73.250000</td>\n",
       "      <td>176.250000</td>\n",
       "      <td>410.250000</td>\n",
       "      <td>58.750000</td>\n",
       "      <td>28.250000</td>\n",
       "      <td>87.750000</td>\n",
       "      <td>51.000000</td>\n",
       "      <td>18.250000</td>\n",
       "      <td>70.750000</td>\n",
       "      <td>0.402500</td>\n",
       "      <td>0.41250</td>\n",
       "      <td>964.000000</td>\n",
       "    </tr>\n",
       "    <tr>\n",
       "      <th>50%</th>\n",
       "      <td>440.000000</td>\n",
       "      <td>306.50000</td>\n",
       "      <td>566.000000</td>\n",
       "      <td>1310.500000</td>\n",
       "      <td>415.500000</td>\n",
       "      <td>215.000000</td>\n",
       "      <td>554.000000</td>\n",
       "      <td>1186.000000</td>\n",
       "      <td>136.500000</td>\n",
       "      <td>79.000000</td>\n",
       "      <td>217.500000</td>\n",
       "      <td>139.000000</td>\n",
       "      <td>54.000000</td>\n",
       "      <td>199.000000</td>\n",
       "      <td>0.490000</td>\n",
       "      <td>0.49500</td>\n",
       "      <td>2479.000000</td>\n",
       "    </tr>\n",
       "    <tr>\n",
       "      <th>75%</th>\n",
       "      <td>1261.000000</td>\n",
       "      <td>774.00000</td>\n",
       "      <td>1219.750000</td>\n",
       "      <td>3107.750000</td>\n",
       "      <td>1198.250000</td>\n",
       "      <td>525.000000</td>\n",
       "      <td>1339.250000</td>\n",
       "      <td>3069.250000</td>\n",
       "      <td>358.750000</td>\n",
       "      <td>199.750000</td>\n",
       "      <td>579.000000</td>\n",
       "      <td>394.250000</td>\n",
       "      <td>134.250000</td>\n",
       "      <td>545.250000</td>\n",
       "      <td>0.557500</td>\n",
       "      <td>0.58000</td>\n",
       "      <td>6123.500000</td>\n",
       "    </tr>\n",
       "    <tr>\n",
       "      <th>max</th>\n",
       "      <td>10906.000000</td>\n",
       "      <td>7118.00000</td>\n",
       "      <td>13128.000000</td>\n",
       "      <td>31152.000000</td>\n",
       "      <td>10266.000000</td>\n",
       "      <td>4223.000000</td>\n",
       "      <td>11329.000000</td>\n",
       "      <td>25818.000000</td>\n",
       "      <td>3279.000000</td>\n",
       "      <td>1959.000000</td>\n",
       "      <td>5238.000000</td>\n",
       "      <td>3528.000000</td>\n",
       "      <td>1084.000000</td>\n",
       "      <td>4612.000000</td>\n",
       "      <td>0.660000</td>\n",
       "      <td>0.70000</td>\n",
       "      <td>56970.000000</td>\n",
       "    </tr>\n",
       "  </tbody>\n",
       "</table>\n",
       "</div>"
      ],
      "text/plain": [
       "       Trump Positive count  Trump Negative count  Trump Neutral count  \\\n",
       "count             50.000000              50.00000            50.000000   \n",
       "mean            1283.420000             800.82000          1453.820000   \n",
       "std             2145.979697            1349.77272          2574.120358   \n",
       "min               24.000000              13.00000            38.000000   \n",
       "25%              201.250000             107.50000           216.250000   \n",
       "50%              440.000000             306.50000           566.000000   \n",
       "75%             1261.000000             774.00000          1219.750000   \n",
       "max            10906.000000            7118.00000         13128.000000   \n",
       "\n",
       "       Trump Total count  Biden Positive count  Biden Negative count  \\\n",
       "count          50.000000             50.000000             50.000000   \n",
       "mean         3538.060000           1161.360000            506.140000   \n",
       "std          6061.082726           2021.850837            835.438661   \n",
       "min            75.000000             43.000000             21.000000   \n",
       "25%           528.500000            159.500000             73.250000   \n",
       "50%          1310.500000            415.500000            215.000000   \n",
       "75%          3107.750000           1198.250000            525.000000   \n",
       "max         31152.000000          10266.000000           4223.000000   \n",
       "\n",
       "       Biden Neutral count  Biden Total count  Trump Positive Sum  \\\n",
       "count            50.000000          50.000000           50.000000   \n",
       "mean           1368.040000        3035.540000          387.560000   \n",
       "std            2272.798885        5122.220741          650.508974   \n",
       "min              22.000000          86.000000            7.000000   \n",
       "25%             176.250000         410.250000           58.750000   \n",
       "50%             554.000000        1186.000000          136.500000   \n",
       "75%            1339.250000        3069.250000          358.750000   \n",
       "max           11329.000000       25818.000000         3279.000000   \n",
       "\n",
       "       Trump Negative Sum  Trump Total Sum  Biden Positive Sum  \\\n",
       "count           50.000000        50.000000           50.000000   \n",
       "mean           215.580000       603.620000          390.760000   \n",
       "std            367.467288      1016.570142          680.550034   \n",
       "min              4.000000        11.000000           11.000000   \n",
       "25%             28.250000        87.750000           51.000000   \n",
       "50%             79.000000       217.500000          139.000000   \n",
       "75%            199.750000       579.000000          394.250000   \n",
       "max           1959.000000      5238.000000         3528.000000   \n",
       "\n",
       "       Biden Negative Sum  Biden Total Sum  Actual Biden Percentage  \\\n",
       "count           50.000000        50.000000                50.000000   \n",
       "mean           130.240000       521.420000                 0.477400   \n",
       "std            217.966536       896.925886                 0.103506   \n",
       "min              5.000000        16.000000                 0.270000   \n",
       "25%             18.250000        70.750000                 0.402500   \n",
       "50%             54.000000       199.000000                 0.490000   \n",
       "75%            134.250000       545.250000                 0.557500   \n",
       "max           1084.000000      4612.000000                 0.660000   \n",
       "\n",
       "       Actual Trump Percentage  Total Tweets  \n",
       "count                 50.00000     50.000000  \n",
       "mean                   0.50080   6573.600000  \n",
       "std                    0.10325  11172.466293  \n",
       "min                    0.31000    161.000000  \n",
       "25%                    0.41250    964.000000  \n",
       "50%                    0.49500   2479.000000  \n",
       "75%                    0.58000   6123.500000  \n",
       "max                    0.70000  56970.000000  "
      ]
     },
     "execution_count": 10,
     "metadata": {},
     "output_type": "execute_result"
    }
   ],
   "source": [
    "df.describe()"
   ]
  },
  {
   "cell_type": "code",
   "execution_count": 11,
   "metadata": {},
   "outputs": [],
   "source": [
    "def getPreds(method):\n",
    "    if method == 1:\n",
    "        df['Biden prediction'] = df['Biden Positive count']/(df['Trump Positive count'] + df['Biden Positive count'])\n",
    "        df['Trump prediction'] = df['Trump Positive count']/(df['Trump Positive count'] + df['Biden Positive count'])\n",
    "    elif method == 2:\n",
    "        df['Biden prediction'] = df['Trump Negative count']/(df['Trump Negative count'] + df['Biden Negative count'])\n",
    "        df['Trump prediction'] = df['Biden Negative count']/(df['Trump Negative count'] + df['Biden Negative count'])\n",
    "    elif method == 3:\n",
    "        trump_pos = df['Trump Positive count']/(df['Trump Total count'])\n",
    "        biden_pos = df['Biden Positive count']/(df['Biden Total count'])\n",
    "        df['Biden prediction'] = biden_pos/(trump_pos + biden_pos)\n",
    "        df['Trump prediction'] = trump_pos/(trump_pos + biden_pos)\n",
    "    elif method == 4:\n",
    "        trump_neg = df['Biden Negative count']/(df['Biden Total count'])\n",
    "        biden_neg = df['Trump Negative count']/(df['Trump Total count'])\n",
    "        df['Biden prediction'] = biden_neg/(trump_neg + biden_neg)\n",
    "        df['Trump prediction'] = trump_neg/(trump_neg + biden_neg)"
   ]
  },
  {
   "cell_type": "code",
   "execution_count": 12,
   "metadata": {},
   "outputs": [],
   "source": [
    "def kl_divergence(p,q):\n",
    "    return sum(p[i] * math.log2(p[i]/q[i]) for i in range(len(p)))"
   ]
  },
  {
   "cell_type": "code",
   "execution_count": 13,
   "metadata": {},
   "outputs": [],
   "source": [
    "def mae(p,q):\n",
    "    return np.mean(np.abs(p[i] - q[i]) for i in range(len(p)))"
   ]
  },
  {
   "cell_type": "code",
   "execution_count": 14,
   "metadata": {},
   "outputs": [],
   "source": [
    "from sklearn.metrics import r2_score"
   ]
  },
  {
   "cell_type": "code",
   "execution_count": 15,
   "metadata": {},
   "outputs": [],
   "source": [
    "getPreds(3)"
   ]
  },
  {
   "cell_type": "code",
   "execution_count": 16,
   "metadata": {},
   "outputs": [],
   "source": [
    "actual_biden = df['Actual Biden Percentage']\n",
    "predicted_biden = df['Biden prediction']\n",
    "actual_biden = actual_biden/actual_biden.sum()\n",
    "predicted_biden = predicted_biden/predicted_biden.sum()\n",
    "\n",
    "actual_trump = df['Actual Trump Percentage']\n",
    "predicted_trump = df['Trump prediction']\n",
    "actual_trump = actual_trump/actual_trump.sum()\n",
    "predicted_trump = predicted_trump/predicted_trump.sum()"
   ]
  },
  {
   "cell_type": "code",
   "execution_count": 17,
   "metadata": {},
   "outputs": [],
   "source": [
    "def getMetrics():\n",
    "    kl_div_biden = kl_divergence(actual_biden, predicted_biden)\n",
    "    kl_div_trump = kl_divergence(actual_trump, predicted_trump)\n",
    "    mae_biden = np.mean(np.abs(df['Actual Biden Percentage'] - df['Biden prediction']))\n",
    "    mae_trump = np.mean(np.abs(df['Actual Trump Percentage'] - df['Trump prediction']))\n",
    "    print(\"MAE Biden: \", mae_biden)\n",
    "    print(\"MAE Trump: \", mae_trump)\n",
    "    print(\"KL divergence for Biden: \", kl_div_biden)\n",
    "    print(\"KL divergence for Trump: \", kl_div_trump)\n",
    "    print(\"R2 score: \", r2_score(df['Actual Biden Percentage'], df['Biden prediction']))"
   ]
  },
  {
   "cell_type": "code",
   "execution_count": 18,
   "metadata": {},
   "outputs": [
    {
     "name": "stdout",
     "output_type": "stream",
     "text": [
      "MAE Biden:  0.08316090137390701\n",
      "MAE Trump:  0.08154000665172986\n",
      "KL divergence for Biden:  0.03208874055390086\n",
      "KL divergence for Trump:  0.030404295951667742\n",
      "R2 score:  -0.03264977313786099\n"
     ]
    }
   ],
   "source": [
    "getMetrics()"
   ]
  },
  {
   "cell_type": "code",
   "execution_count": 19,
   "metadata": {},
   "outputs": [
    {
     "data": {
      "text/plain": [
       "'\\nMAE Biden:  0.08316090137390701\\nMAE Trump:  0.08154000665172986\\nKL divergence for Biden:  0.03208874055390086\\nKL divergence for Trump:  0.030404295951667742\\n'"
      ]
     },
     "execution_count": 19,
     "metadata": {},
     "output_type": "execute_result"
    }
   ],
   "source": [
    "'''\n",
    "MAE Biden:  0.08316090137390701\n",
    "MAE Trump:  0.08154000665172986\n",
    "KL divergence for Biden:  0.03208874055390086\n",
    "KL divergence for Trump:  0.030404295951667742\n",
    "'''"
   ]
  },
  {
   "cell_type": "code",
   "execution_count": 86,
   "metadata": {},
   "outputs": [],
   "source": [
    "import matplotlib.pyplot as plt"
   ]
  },
  {
   "cell_type": "code",
   "execution_count": 88,
   "metadata": {},
   "outputs": [
    {
     "data": {
      "image/png": "[encoded data removed]",
      "text/plain": [
       "<Figure size 432x288 with 1 Axes>"
      ]
     },
     "metadata": {
      "needs_background": "light"
     },
     "output_type": "display_data"
    }
   ],
   "source": [
    "plt.scatter(df['Actual Biden Percentage'], df['Biden prediction'])\n",
    "plt.xlabel('Actual Biden Percentage')\n",
    "plt.ylabel('Predicted Biden Percentage')\n",
    "plt.show()"
   ]
  },
  {
   "cell_type": "code",
   "execution_count": 94,
   "metadata": {},
   "outputs": [],
   "source": [
    "x = np.arange(0,len(df['Actual Biden Percentage']))"
   ]
  },
  {
   "cell_type": "code",
   "execution_count": 103,
   "metadata": {},
   "outputs": [
    {
     "data": {
      "image/png": "[encoded data removed]",
      "text/plain": [
       "<Figure size 432x288 with 1 Axes>"
      ]
     },
     "metadata": {
      "needs_background": "light"
     },
     "output_type": "display_data"
    }
   ],
   "source": [
    "plt.bar(x[10:20]-0.15, df['Actual Biden Percentage'][10:20],width=0.25, label = 'Actual Biden Percentage')\n",
    "plt.bar(x[10:20]+0.15, df['Biden prediction'][10:20], color='r', alpha=0.5,width=0.25, label= 'Predicted Biden Percentage')\n",
    "plt.xlabel('State')\n",
    "plt.ylabel('Actual Biden Percentage')\n",
    "plt.legend()\n",
    "plt.show()"
   ]
  },
  {
   "cell_type": "code",
   "execution_count": 83,
   "metadata": {},
   "outputs": [
    {
     "data": {
      "text/plain": [
       "26"
      ]
     },
     "execution_count": 83,
     "metadata": {},
     "output_type": "execute_result"
    }
   ],
   "source": [
    "col = df['Biden prediction'] > df['Trump prediction']\n",
    "count = 0\n",
    "for e in col:\n",
    "    if e == True:\n",
    "        count += 1\n",
    "count"
   ]
  },
  {
   "cell_type": "code",
   "execution_count": 84,
   "metadata": {},
   "outputs": [
    {
     "data": {
      "text/plain": [
       "25"
      ]
     },
     "execution_count": 84,
     "metadata": {},
     "output_type": "execute_result"
    }
   ],
   "source": [
    "len(res[res['Winner']==\"Biden\"])"
   ]
  },
  {
   "cell_type": "code",
   "execution_count": 85,
   "metadata": {},
   "outputs": [
    {
     "data": {
      "text/plain": [
       "25"
      ]
     },
     "execution_count": 85,
     "metadata": {},
     "output_type": "execute_result"
    }
   ],
   "source": [
    "len(res[res['Winner']==\"Trump\"])"
   ]
  },
  {
   "cell_type": "code",
   "execution_count": null,
   "metadata": {},
   "outputs": [],
   "source": []
  },
  {
   "cell_type": "code",
   "execution_count": null,
   "metadata": {},
   "outputs": [],
   "source": []
  },
  {
   "cell_type": "code",
   "execution_count": null,
   "metadata": {},
   "outputs": [],
   "source": []
  },
  {
   "cell_type": "code",
   "execution_count": null,
   "metadata": {},
   "outputs": [],
   "source": []
  },
  {
   "cell_type": "code",
   "execution_count": null,
   "metadata": {},
   "outputs": [],
   "source": []
  }
 ],
 "metadata": {
  "interpreter": {
   "hash": "aee8b7b246df8f9039afb4144a1f6fd8d2ca17a180786b69acc140d282b71a49"
  },
  "kernelspec": {
   "display_name": "Python 3.7.9 64-bit",
   "language": "python",
   "name": "python3"
  },
  "language_info": {
   "codemirror_mode": {
    "name": "ipython",
    "version": 3
   },
   "file_extension": ".py",
   "mimetype": "text/x-python",
   "name": "python",
   "nbconvert_exporter": "python",
   "pygments_lexer": "ipython3",
   "version": "3.7.9"
  },
  "orig_nbformat": 4
 },
 "nbformat": 4,
 "nbformat_minor": 2
}
