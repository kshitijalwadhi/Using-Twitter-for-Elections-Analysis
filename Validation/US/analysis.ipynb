{
 "cells": [
  {
   "cell_type": "code",
   "execution_count": 643,
   "metadata": {},
   "outputs": [],
   "source": [
    "import pandas as pd \n",
    "import numpy as np\n",
    "import math"
   ]
  },
  {
   "cell_type": "code",
   "execution_count": 644,
   "metadata": {},
   "outputs": [],
   "source": [
    "res = pd.read_csv(\"results.csv\")\n",
    "res.rename(columns={'Unnamed: 0':'State'}, inplace=True)\n",
    "res = res.iloc[:-1]"
   ]
  },
  {
   "cell_type": "code",
   "execution_count": 645,
   "metadata": {},
   "outputs": [],
   "source": [
    "vader = pd.read_csv(\"statewise_total_idea1.csv\")\n",
    "vader.rename(columns={'Unnamed: 0':'State'}, inplace=True)"
   ]
  },
  {
   "cell_type": "code",
   "execution_count": 646,
   "metadata": {},
   "outputs": [],
   "source": [
    "bnb = pd.read_csv(\"statewise_total_idea2.csv\")\n",
    "bnb.rename(columns={'Unnamed: 0':'State'}, inplace=True)"
   ]
  },
  {
   "cell_type": "code",
   "execution_count": 647,
   "metadata": {},
   "outputs": [],
   "source": [
    "vader_subj = pd.read_csv(\"statewise_total_idea3.csv\")\n",
    "vader_subj.rename(columns={'Unnamed: 0':'State'}, inplace=True)"
   ]
  },
  {
   "cell_type": "code",
   "execution_count": 648,
   "metadata": {},
   "outputs": [],
   "source": [
    "bnb_subj = pd.read_csv(\"statewise_total_idea4.csv\")\n",
    "bnb_subj.rename(columns={'Unnamed: 0':'State'}, inplace=True)"
   ]
  },
  {
   "cell_type": "code",
   "execution_count": 649,
   "metadata": {},
   "outputs": [],
   "source": [
    "vader_bnb = pd.read_csv(\"statewise_total_idea5.csv\")\n",
    "vader_bnb.rename(columns={'Unnamed: 0':'State'}, inplace=True)"
   ]
  },
  {
   "cell_type": "code",
   "execution_count": 650,
   "metadata": {},
   "outputs": [],
   "source": [
    "sentiment = \"vader_bnb\"\n",
    "if sentiment==\"bnb\":\n",
    "    df = bnb\n",
    "elif sentiment==\"vader\":\n",
    "    df = vader\n",
    "elif sentiment==\"vader_subj\":\n",
    "    df = vader_subj\n",
    "elif sentiment==\"bnb_subj\":\n",
    "    df = bnb_subj\n",
    "elif sentiment==\"vader_bnb\":\n",
    "    df = vader_bnb\n",
    "df['Actual Biden Percentage'] = res['Biden Percentage']\n",
    "df['Actual Trump Percentage'] = res['Trump Percentage']\n",
    "df['Actual Winner'] = res[\"Winner\"]\n",
    "df[\"Total Tweets\"] = df[\"Trump Total count\"] + df[\"Biden Total count\"]"
   ]
  },
  {
   "cell_type": "code",
   "execution_count": 651,
   "metadata": {},
   "outputs": [
    {
     "data": {
      "text/html": [
       "<div>\n",
       "<style scoped>\n",
       "    .dataframe tbody tr th:only-of-type {\n",
       "        vertical-align: middle;\n",
       "    }\n",
       "\n",
       "    .dataframe tbody tr th {\n",
       "        vertical-align: top;\n",
       "    }\n",
       "\n",
       "    .dataframe thead th {\n",
       "        text-align: right;\n",
       "    }\n",
       "</style>\n",
       "<table border=\"1\" class=\"dataframe\">\n",
       "  <thead>\n",
       "    <tr style=\"text-align: right;\">\n",
       "      <th></th>\n",
       "      <th>State</th>\n",
       "      <th>Trump Positive count</th>\n",
       "      <th>Trump Negative count</th>\n",
       "      <th>Trump Total count</th>\n",
       "      <th>Biden Positive count</th>\n",
       "      <th>Biden Negative count</th>\n",
       "      <th>Biden Total count</th>\n",
       "      <th>Actual Biden Percentage</th>\n",
       "      <th>Actual Trump Percentage</th>\n",
       "      <th>Actual Winner</th>\n",
       "      <th>Total Tweets</th>\n",
       "    </tr>\n",
       "  </thead>\n",
       "  <tbody>\n",
       "    <tr>\n",
       "      <th>0</th>\n",
       "      <td>Alabama</td>\n",
       "      <td>237</td>\n",
       "      <td>90</td>\n",
       "      <td>327</td>\n",
       "      <td>227</td>\n",
       "      <td>85</td>\n",
       "      <td>312</td>\n",
       "      <td>0.37</td>\n",
       "      <td>0.62</td>\n",
       "      <td>Trump</td>\n",
       "      <td>639</td>\n",
       "    </tr>\n",
       "    <tr>\n",
       "      <th>1</th>\n",
       "      <td>Alaska</td>\n",
       "      <td>112</td>\n",
       "      <td>34</td>\n",
       "      <td>146</td>\n",
       "      <td>119</td>\n",
       "      <td>50</td>\n",
       "      <td>169</td>\n",
       "      <td>0.43</td>\n",
       "      <td>0.53</td>\n",
       "      <td>Trump</td>\n",
       "      <td>315</td>\n",
       "    </tr>\n",
       "    <tr>\n",
       "      <th>2</th>\n",
       "      <td>Arizona</td>\n",
       "      <td>797</td>\n",
       "      <td>362</td>\n",
       "      <td>1159</td>\n",
       "      <td>926</td>\n",
       "      <td>295</td>\n",
       "      <td>1221</td>\n",
       "      <td>0.49</td>\n",
       "      <td>0.49</td>\n",
       "      <td>Biden</td>\n",
       "      <td>2380</td>\n",
       "    </tr>\n",
       "    <tr>\n",
       "      <th>3</th>\n",
       "      <td>Arkansas</td>\n",
       "      <td>132</td>\n",
       "      <td>88</td>\n",
       "      <td>220</td>\n",
       "      <td>154</td>\n",
       "      <td>44</td>\n",
       "      <td>198</td>\n",
       "      <td>0.35</td>\n",
       "      <td>0.62</td>\n",
       "      <td>Trump</td>\n",
       "      <td>418</td>\n",
       "    </tr>\n",
       "    <tr>\n",
       "      <th>4</th>\n",
       "      <td>California</td>\n",
       "      <td>7440</td>\n",
       "      <td>3847</td>\n",
       "      <td>11287</td>\n",
       "      <td>8103</td>\n",
       "      <td>2018</td>\n",
       "      <td>10121</td>\n",
       "      <td>0.63</td>\n",
       "      <td>0.34</td>\n",
       "      <td>Biden</td>\n",
       "      <td>21408</td>\n",
       "    </tr>\n",
       "  </tbody>\n",
       "</table>\n",
       "</div>"
      ],
      "text/plain": [
       "        State  Trump Positive count  Trump Negative count  Trump Total count  \\\n",
       "0     Alabama                   237                    90                327   \n",
       "1      Alaska                   112                    34                146   \n",
       "2     Arizona                   797                   362               1159   \n",
       "3    Arkansas                   132                    88                220   \n",
       "4  California                  7440                  3847              11287   \n",
       "\n",
       "   Biden Positive count  Biden Negative count  Biden Total count  \\\n",
       "0                   227                    85                312   \n",
       "1                   119                    50                169   \n",
       "2                   926                   295               1221   \n",
       "3                   154                    44                198   \n",
       "4                  8103                  2018              10121   \n",
       "\n",
       "   Actual Biden Percentage  Actual Trump Percentage Actual Winner  \\\n",
       "0                     0.37                     0.62         Trump   \n",
       "1                     0.43                     0.53         Trump   \n",
       "2                     0.49                     0.49         Biden   \n",
       "3                     0.35                     0.62         Trump   \n",
       "4                     0.63                     0.34         Biden   \n",
       "\n",
       "   Total Tweets  \n",
       "0           639  \n",
       "1           315  \n",
       "2          2380  \n",
       "3           418  \n",
       "4         21408  "
      ]
     },
     "execution_count": 651,
     "metadata": {},
     "output_type": "execute_result"
    }
   ],
   "source": [
    "df.head()"
   ]
  },
  {
   "cell_type": "code",
   "execution_count": 652,
   "metadata": {},
   "outputs": [
    {
     "data": {
      "text/html": [
       "<div>\n",
       "<style scoped>\n",
       "    .dataframe tbody tr th:only-of-type {\n",
       "        vertical-align: middle;\n",
       "    }\n",
       "\n",
       "    .dataframe tbody tr th {\n",
       "        vertical-align: top;\n",
       "    }\n",
       "\n",
       "    .dataframe thead th {\n",
       "        text-align: right;\n",
       "    }\n",
       "</style>\n",
       "<table border=\"1\" class=\"dataframe\">\n",
       "  <thead>\n",
       "    <tr style=\"text-align: right;\">\n",
       "      <th></th>\n",
       "      <th>Trump Positive count</th>\n",
       "      <th>Trump Negative count</th>\n",
       "      <th>Trump Total count</th>\n",
       "      <th>Biden Positive count</th>\n",
       "      <th>Biden Negative count</th>\n",
       "      <th>Biden Total count</th>\n",
       "      <th>Actual Biden Percentage</th>\n",
       "      <th>Actual Trump Percentage</th>\n",
       "      <th>Total Tweets</th>\n",
       "    </tr>\n",
       "  </thead>\n",
       "  <tbody>\n",
       "    <tr>\n",
       "      <th>count</th>\n",
       "      <td>50.000000</td>\n",
       "      <td>50.000000</td>\n",
       "      <td>50.000000</td>\n",
       "      <td>50.000000</td>\n",
       "      <td>50.000000</td>\n",
       "      <td>50.000000</td>\n",
       "      <td>50.000000</td>\n",
       "      <td>50.00000</td>\n",
       "      <td>50.00000</td>\n",
       "    </tr>\n",
       "    <tr>\n",
       "      <th>mean</th>\n",
       "      <td>866.560000</td>\n",
       "      <td>444.580000</td>\n",
       "      <td>1311.140000</td>\n",
       "      <td>888.880000</td>\n",
       "      <td>242.880000</td>\n",
       "      <td>1131.760000</td>\n",
       "      <td>0.477400</td>\n",
       "      <td>0.50080</td>\n",
       "      <td>2442.90000</td>\n",
       "    </tr>\n",
       "    <tr>\n",
       "      <th>std</th>\n",
       "      <td>1474.219007</td>\n",
       "      <td>737.441526</td>\n",
       "      <td>2209.551548</td>\n",
       "      <td>1573.610857</td>\n",
       "      <td>390.946817</td>\n",
       "      <td>1961.513613</td>\n",
       "      <td>0.103506</td>\n",
       "      <td>0.10325</td>\n",
       "      <td>4165.91146</td>\n",
       "    </tr>\n",
       "    <tr>\n",
       "      <th>min</th>\n",
       "      <td>15.000000</td>\n",
       "      <td>9.000000</td>\n",
       "      <td>24.000000</td>\n",
       "      <td>30.000000</td>\n",
       "      <td>14.000000</td>\n",
       "      <td>45.000000</td>\n",
       "      <td>0.270000</td>\n",
       "      <td>0.31000</td>\n",
       "      <td>69.00000</td>\n",
       "    </tr>\n",
       "    <tr>\n",
       "      <th>25%</th>\n",
       "      <td>134.500000</td>\n",
       "      <td>64.000000</td>\n",
       "      <td>203.500000</td>\n",
       "      <td>121.500000</td>\n",
       "      <td>37.500000</td>\n",
       "      <td>163.500000</td>\n",
       "      <td>0.402500</td>\n",
       "      <td>0.41250</td>\n",
       "      <td>361.00000</td>\n",
       "    </tr>\n",
       "    <tr>\n",
       "      <th>50%</th>\n",
       "      <td>299.000000</td>\n",
       "      <td>183.500000</td>\n",
       "      <td>482.000000</td>\n",
       "      <td>298.000000</td>\n",
       "      <td>111.000000</td>\n",
       "      <td>424.500000</td>\n",
       "      <td>0.490000</td>\n",
       "      <td>0.49500</td>\n",
       "      <td>924.50000</td>\n",
       "    </tr>\n",
       "    <tr>\n",
       "      <th>75%</th>\n",
       "      <td>801.500000</td>\n",
       "      <td>438.000000</td>\n",
       "      <td>1272.500000</td>\n",
       "      <td>915.500000</td>\n",
       "      <td>265.250000</td>\n",
       "      <td>1175.250000</td>\n",
       "      <td>0.557500</td>\n",
       "      <td>0.58000</td>\n",
       "      <td>2344.75000</td>\n",
       "    </tr>\n",
       "    <tr>\n",
       "      <th>max</th>\n",
       "      <td>7440.000000</td>\n",
       "      <td>3847.000000</td>\n",
       "      <td>11287.000000</td>\n",
       "      <td>8103.000000</td>\n",
       "      <td>2018.000000</td>\n",
       "      <td>10121.000000</td>\n",
       "      <td>0.660000</td>\n",
       "      <td>0.70000</td>\n",
       "      <td>21408.00000</td>\n",
       "    </tr>\n",
       "  </tbody>\n",
       "</table>\n",
       "</div>"
      ],
      "text/plain": [
       "       Trump Positive count  Trump Negative count  Trump Total count  \\\n",
       "count             50.000000             50.000000          50.000000   \n",
       "mean             866.560000            444.580000        1311.140000   \n",
       "std             1474.219007            737.441526        2209.551548   \n",
       "min               15.000000              9.000000          24.000000   \n",
       "25%              134.500000             64.000000         203.500000   \n",
       "50%              299.000000            183.500000         482.000000   \n",
       "75%              801.500000            438.000000        1272.500000   \n",
       "max             7440.000000           3847.000000       11287.000000   \n",
       "\n",
       "       Biden Positive count  Biden Negative count  Biden Total count  \\\n",
       "count             50.000000             50.000000          50.000000   \n",
       "mean             888.880000            242.880000        1131.760000   \n",
       "std             1573.610857            390.946817        1961.513613   \n",
       "min               30.000000             14.000000          45.000000   \n",
       "25%              121.500000             37.500000         163.500000   \n",
       "50%              298.000000            111.000000         424.500000   \n",
       "75%              915.500000            265.250000        1175.250000   \n",
       "max             8103.000000           2018.000000       10121.000000   \n",
       "\n",
       "       Actual Biden Percentage  Actual Trump Percentage  Total Tweets  \n",
       "count                50.000000                 50.00000      50.00000  \n",
       "mean                  0.477400                  0.50080    2442.90000  \n",
       "std                   0.103506                  0.10325    4165.91146  \n",
       "min                   0.270000                  0.31000      69.00000  \n",
       "25%                   0.402500                  0.41250     361.00000  \n",
       "50%                   0.490000                  0.49500     924.50000  \n",
       "75%                   0.557500                  0.58000    2344.75000  \n",
       "max                   0.660000                  0.70000   21408.00000  "
      ]
     },
     "execution_count": 652,
     "metadata": {},
     "output_type": "execute_result"
    }
   ],
   "source": [
    "df.describe()"
   ]
  },
  {
   "cell_type": "code",
   "execution_count": 653,
   "metadata": {},
   "outputs": [],
   "source": [
    "def getPreds(method):\n",
    "    if method == 1:\n",
    "        df['Biden prediction'] = df['Biden Positive count']/(df['Trump Positive count'] + df['Biden Positive count'])\n",
    "        df['Trump prediction'] = df['Trump Positive count']/(df['Trump Positive count'] + df['Biden Positive count'])\n",
    "    elif method == 2:\n",
    "        df['Biden prediction'] = df['Trump Negative count']/(df['Trump Negative count'] + df['Biden Negative count'])\n",
    "        df['Trump prediction'] = df['Biden Negative count']/(df['Trump Negative count'] + df['Biden Negative count'])\n",
    "    elif method == 3:\n",
    "        trump_pos = df['Trump Positive count']/(df['Trump Total count'])\n",
    "        biden_pos = df['Biden Positive count']/(df['Biden Total count'])\n",
    "        df['Biden prediction'] = biden_pos/(trump_pos + biden_pos)\n",
    "        df['Trump prediction'] = trump_pos/(trump_pos + biden_pos)\n",
    "    elif method == 4:\n",
    "        trump_neg = df['Biden Negative count']/(df['Biden Total count'])\n",
    "        biden_neg = df['Trump Negative count']/(df['Trump Total count'])\n",
    "        df['Biden prediction'] = biden_neg/(trump_neg + biden_neg)\n",
    "        df['Trump prediction'] = trump_neg/(trump_neg + biden_neg)"
   ]
  },
  {
   "cell_type": "code",
   "execution_count": 654,
   "metadata": {},
   "outputs": [],
   "source": [
    "def kl_divergence(p,q):\n",
    "    return sum(p[i] * math.log2(p[i]/q[i]) for i in range(len(p)))"
   ]
  },
  {
   "cell_type": "code",
   "execution_count": 655,
   "metadata": {},
   "outputs": [],
   "source": [
    "getPreds(3)"
   ]
  },
  {
   "cell_type": "code",
   "execution_count": 656,
   "metadata": {},
   "outputs": [],
   "source": [
    "actual_biden = df['Actual Biden Percentage']\n",
    "predicted_biden = df['Biden prediction']\n",
    "# actual_biden = actual_biden/actual_biden.sum()\n",
    "# predicted_biden = predicted_biden/predicted_biden.sum()\n",
    "actual_biden/=100\n",
    "predicted_biden/=100\n",
    "actual_trump = df['Actual Trump Percentage']\n",
    "predicted_trump = df['Trump prediction']\n",
    "actual_trump/=100\n",
    "predicted_trump/=100\n",
    "# actual_trump = actual_trump/actual_trump.sum()\n",
    "# predicted_trump = predicted_trump/predicted_trump.sum()"
   ]
  },
  {
   "cell_type": "code",
   "execution_count": 657,
   "metadata": {},
   "outputs": [],
   "source": [
    "def getMetrics():\n",
    "    kl_div_biden = kl_divergence(actual_biden, predicted_biden)\n",
    "    kl_div_trump = kl_divergence(actual_trump, predicted_trump)\n",
    "    mae_biden = np.mean(np.abs(df['Actual Biden Percentage'] - df['Biden prediction']))\n",
    "    mae_trump = np.mean(np.abs(df['Actual Trump Percentage'] - df['Trump prediction']))\n",
    "    print(\"MAE Biden: \", mae_biden)\n",
    "    print(\"MAE Trump: \", mae_trump)\n",
    "    print(\"KL divergence for Biden: \", kl_div_biden)\n",
    "    print(\"KL divergence for Trump: \", kl_div_trump)"
   ]
  },
  {
   "cell_type": "code",
   "execution_count": 658,
   "metadata": {},
   "outputs": [
    {
     "name": "stdout",
     "output_type": "stream",
     "text": [
      "MAE Biden:  0.0009059081795644669\n",
      "MAE Trump:  0.0008507488791546231\n",
      "KL divergence for Biden:  -0.03283953602104783\n",
      "KL divergence for Trump:  0.03419607984802087\n"
     ]
    }
   ],
   "source": [
    "getMetrics()"
   ]
  },
  {
   "cell_type": "code",
   "execution_count": 659,
   "metadata": {},
   "outputs": [
    {
     "data": {
      "text/plain": [
       "'\\nMAE Biden:  0.08316090137390701\\nMAE Trump:  0.08154000665172986\\nKL divergence for Biden:  0.03208874055390086\\nKL divergence for Trump:  0.030404295951667742\\n'"
      ]
     },
     "execution_count": 659,
     "metadata": {},
     "output_type": "execute_result"
    }
   ],
   "source": [
    "'''\n",
    "MAE Biden:  0.08316090137390701\n",
    "MAE Trump:  0.08154000665172986\n",
    "KL divergence for Biden:  0.03208874055390086\n",
    "KL divergence for Trump:  0.030404295951667742\n",
    "'''"
   ]
  },
  {
   "cell_type": "code",
   "execution_count": null,
   "metadata": {},
   "outputs": [],
   "source": []
  },
  {
   "cell_type": "code",
   "execution_count": null,
   "metadata": {},
   "outputs": [],
   "source": []
  },
  {
   "cell_type": "code",
   "execution_count": 660,
   "metadata": {},
   "outputs": [
    {
     "data": {
      "text/plain": [
       "48"
      ]
     },
     "execution_count": 660,
     "metadata": {},
     "output_type": "execute_result"
    }
   ],
   "source": [
    "col = df['Biden prediction'] > df['Trump prediction']\n",
    "count = 0\n",
    "for e in col:\n",
    "    if e == True:\n",
    "        count += 1\n",
    "count"
   ]
  },
  {
   "cell_type": "code",
   "execution_count": 661,
   "metadata": {},
   "outputs": [
    {
     "data": {
      "text/plain": [
       "25"
      ]
     },
     "execution_count": 661,
     "metadata": {},
     "output_type": "execute_result"
    }
   ],
   "source": [
    "len(res[res['Winner']==\"Biden\"])"
   ]
  },
  {
   "cell_type": "code",
   "execution_count": 662,
   "metadata": {},
   "outputs": [
    {
     "data": {
      "text/plain": [
       "25"
      ]
     },
     "execution_count": 662,
     "metadata": {},
     "output_type": "execute_result"
    }
   ],
   "source": [
    "len(res[res['Winner']==\"Trump\"])"
   ]
  },
  {
   "cell_type": "code",
   "execution_count": null,
   "metadata": {},
   "outputs": [],
   "source": []
  },
  {
   "cell_type": "code",
   "execution_count": null,
   "metadata": {},
   "outputs": [],
   "source": []
  },
  {
   "cell_type": "code",
   "execution_count": null,
   "metadata": {},
   "outputs": [],
   "source": []
  },
  {
   "cell_type": "code",
   "execution_count": null,
   "metadata": {},
   "outputs": [],
   "source": []
  },
  {
   "cell_type": "code",
   "execution_count": null,
   "metadata": {},
   "outputs": [],
   "source": []
  }
 ],
 "metadata": {
  "interpreter": {
   "hash": "aee8b7b246df8f9039afb4144a1f6fd8d2ca17a180786b69acc140d282b71a49"
  },
  "kernelspec": {
   "display_name": "Python 3.7.9 64-bit",
   "language": "python",
   "name": "python3"
  },
  "language_info": {
   "codemirror_mode": {
    "name": "ipython",
    "version": 3
   },
   "file_extension": ".py",
   "mimetype": "text/x-python",
   "name": "python",
   "nbconvert_exporter": "python",
   "pygments_lexer": "ipython3",
   "version": "3.7.9"
  },
  "orig_nbformat": 4
 },
 "nbformat": 4,
 "nbformat_minor": 2
}
