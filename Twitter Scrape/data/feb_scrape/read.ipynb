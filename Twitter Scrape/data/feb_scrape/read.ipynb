{
 "cells": [
  {
   "cell_type": "code",
   "execution_count": 1,
   "metadata": {},
   "outputs": [],
   "source": [
    "import os\n",
    "import pandas as pd\n",
    "from tqdm import tqdm"
   ]
  },
  {
   "cell_type": "code",
   "execution_count": 2,
   "metadata": {},
   "outputs": [],
   "source": [
    "UP_query = [\"#BJPwinningUP\",\"@myogiadityanath\",\"yogi\",\"@BJP4UP\"]\n",
    "Punjab_query = [\"@CHARANJITCHANNI\",\"channi\"]"
   ]
  },
  {
   "cell_type": "code",
   "execution_count": 3,
   "metadata": {},
   "outputs": [],
   "source": [
    "\n",
    "def combine(folder):\n",
    "    i = 0\n",
    "    up = []\n",
    "    punjab = []\n",
    "    rest = []\n",
    "\n",
    "    files = os.listdir(folder)\n",
    "    for file in tqdm(files):\n",
    "        flag = False\n",
    "        try:\n",
    "            if (i==0):\n",
    "                df = pd.read_json(folder + file, lines=True)\n",
    "                combined = df[\"renderedContent\"]\n",
    "                i = 1\n",
    "            else:\n",
    "                df = pd.read_json(folder + file, lines=True)\n",
    "                combined = pd.concat([combined, df[\"renderedContent\"]])\n",
    "        \n",
    "            words = file.split(\"-\")\n",
    "            for w in words:\n",
    "                if w in UP_query:\n",
    "                    up.append(df)\n",
    "                    flag = True\n",
    "                    break\n",
    "                elif w in Punjab_query:\n",
    "                    punjab.append(df)\n",
    "                    flag = True\n",
    "                    break\n",
    "            if not flag:\n",
    "                rest.append(df)\n",
    "                \n",
    "        except:\n",
    "            print(file)\n",
    "\n",
    "    print(combined.shape)\n",
    "    if (len(up)>0):\n",
    "        up_df = pd.concat(up)\n",
    "    else:\n",
    "        up_df = pd.DataFrame()\n",
    "        # up_df.to_csv(f\"data/feb_scrape/{folder[0:len(folder)-1]}/{folder[0:len(folder)-1]}_up.csv\", index=False)\n",
    "    if (len(punjab)>0):\n",
    "        punjab_df = pd.concat(punjab)\n",
    "    else:\n",
    "        punjab_df = pd.DataFrame()\n",
    "        # punjab_df.to_csv(f\"data/feb_scrape/{folder[0:len(folder)-1]}/{folder[0:len(folder)-1]}_punjab.csv\", index=False)\n",
    "    if (len(rest)>0):\n",
    "        rest_df = pd.concat(rest)\n",
    "    else:\n",
    "        rest_df = pd.DataFrame()\n",
    "        # rest_df.to_csv(f\"data/feb_scrape/{folder[0:len(folder)-1]}/{folder[0:len(folder)-1]}_rest.csv\", index=False)\n",
    "\n",
    "    combined.to_csv(folder[0:len(folder)-1]+\".csvi\", index=False)\n",
    "\n",
    "    return(up_df,punjab_df,rest_df)"
   ]
  },
  {
   "cell_type": "code",
   "execution_count": 4,
   "metadata": {},
   "outputs": [
    {
     "name": "stderr",
     "output_type": "stream",
     "text": [
      "100%|██████████| 14/14 [00:00<00:00, 33.02it/s]\n"
     ]
    },
    {
     "name": "stdout",
     "output_type": "stream",
     "text": [
      "(6017,)\n"
     ]
    },
    {
     "data": {
      "text/plain": [
       "(Empty DataFrame\n",
       " Columns: []\n",
       " Index: [],\n",
       " Empty DataFrame\n",
       " Columns: []\n",
       " Index: [],\n",
       "                               _type  \\\n",
       " 0    snscrape.modules.twitter.Tweet   \n",
       " 1    snscrape.modules.twitter.Tweet   \n",
       " 2    snscrape.modules.twitter.Tweet   \n",
       " 3    snscrape.modules.twitter.Tweet   \n",
       " 4    snscrape.modules.twitter.Tweet   \n",
       " ..                              ...   \n",
       " 403  snscrape.modules.twitter.Tweet   \n",
       " 404  snscrape.modules.twitter.Tweet   \n",
       " 405  snscrape.modules.twitter.Tweet   \n",
       " 406  snscrape.modules.twitter.Tweet   \n",
       " 407  snscrape.modules.twitter.Tweet   \n",
       " \n",
       "                                                    url  \\\n",
       " 0    https://twitter.com/vaalsalya/status/149337439...   \n",
       " 1    https://twitter.com/AmanKJhooti/status/1493373...   \n",
       " 2    https://twitter.com/NKJammu/status/14933706607...   \n",
       " 3    https://twitter.com/SanghaDr/status/1493361221...   \n",
       " 4    https://twitter.com/sahilsetia21/status/149334...   \n",
       " ..                                                 ...   \n",
       " 403  https://twitter.com/ANI/status/149410703611173...   \n",
       " 404  https://twitter.com/Kaur14853331/status/149410...   \n",
       " 405  https://twitter.com/noendingsight/status/14941...   \n",
       " 406  https://twitter.com/sjsbains/status/1494102924...   \n",
       " 407  https://twitter.com/Chirruped/status/149410004...   \n",
       " \n",
       "                          date  \\\n",
       " 0   2022-02-14 23:59:37+00:00   \n",
       " 1   2022-02-14 23:55:07+00:00   \n",
       " 2   2022-02-14 23:44:45+00:00   \n",
       " 3   2022-02-14 23:07:15+00:00   \n",
       " 4   2022-02-14 22:01:27+00:00   \n",
       " ..                        ...   \n",
       " 403 2022-02-17 00:30:51+00:00   \n",
       " 404 2022-02-17 00:28:38+00:00   \n",
       " 405 2022-02-17 00:17:48+00:00   \n",
       " 406 2022-02-17 00:14:31+00:00   \n",
       " 407 2022-02-17 00:03:05+00:00   \n",
       " \n",
       "                                             rawContent  \\\n",
       " 0    @_asandhu ✊🏽🇮🇳✊🏽\\n#PunjabElections2022 \\n“In a...   \n",
       " 1    Mann Mann hoyi payi hai 🔥🔥🔥\\n\\n#PunjabElection...   \n",
       " 2    @jdhillonA You’re too sweet, JD. But the hard ...   \n",
       " 3    https://t.co/Ghjb5inhCS\\n\\nAn appeal2 #Punjab ...   \n",
       " 4    Let us elect a govt that focuses on Education,...   \n",
       " ..                                                 ...   \n",
       " 403  Bhagwant Mann (AAP's Punjab CM candidate) is a...   \n",
       " 404  #PunjabElections2022\\n\\nRequest to all brother...   \n",
       " 405  Which government would you like to see for the...   \n",
       " 406  @DrKumarVishwas is communal and dishonest in a...   \n",
       " 407  Is spreading fake news allowed, @ECISVEEP? How...   \n",
       " \n",
       "                                        renderedContent                   id  \\\n",
       " 0    @_asandhu ✊🏽🇮🇳✊🏽\\n#PunjabElections2022 \\n“In a...  1493374399419797504   \n",
       " 1    Mann Mann hoyi payi hai 🔥🔥🔥\\n\\n#PunjabElection...  1493373270502133761   \n",
       " 2    @jdhillonA You’re too sweet, JD. But the hard ...  1493370660789260291   \n",
       " 3    m.youtube.com/watch?v=Zraivo…\\n\\nAn appeal2 #P...  1493361221227139074   \n",
       " 4    Let us elect a govt that focuses on Education,...  1493344662710489088   \n",
       " ..                                                 ...                  ...   \n",
       " 403  Bhagwant Mann (AAP's Punjab CM candidate) is a...  1494107036111732738   \n",
       " 404  #PunjabElections2022\\n\\nRequest to all brother...  1494106481158807556   \n",
       " 405  Which government would you like to see for the...  1494103752931954697   \n",
       " 406  @DrKumarVishwas is communal and dishonest in a...  1494102924754104321   \n",
       " 407  Is spreading fake news allowed, @ECISVEEP? How...  1494100047742398465   \n",
       " \n",
       "                                                   user  replyCount  \\\n",
       " 0    {'_type': 'snscrape.modules.twitter.User', 'us...           0   \n",
       " 1    {'_type': 'snscrape.modules.twitter.User', 'us...           0   \n",
       " 2    {'_type': 'snscrape.modules.twitter.User', 'us...           1   \n",
       " 3    {'_type': 'snscrape.modules.twitter.User', 'us...           0   \n",
       " 4    {'_type': 'snscrape.modules.twitter.User', 'us...           0   \n",
       " ..                                                 ...         ...   \n",
       " 403  {'_type': 'snscrape.modules.twitter.User', 'us...          91   \n",
       " 404  {'_type': 'snscrape.modules.twitter.User', 'us...           1   \n",
       " 405  {'_type': 'snscrape.modules.twitter.User', 'us...           1   \n",
       " 406  {'_type': 'snscrape.modules.twitter.User', 'us...           0   \n",
       " 407  {'_type': 'snscrape.modules.twitter.User', 'us...           0   \n",
       " \n",
       "      retweetCount  likeCount  ...  retweetedTweet  \\\n",
       " 0               0          0  ...             NaN   \n",
       " 1               1          6  ...             NaN   \n",
       " 2               0          3  ...             NaN   \n",
       " 3               0          0  ...             NaN   \n",
       " 4               0          0  ...             NaN   \n",
       " ..            ...        ...  ...             ...   \n",
       " 403           130       1096  ...             NaN   \n",
       " 404             1          0  ...             NaN   \n",
       " 405             1          0  ...             NaN   \n",
       " 406             0          0  ...             NaN   \n",
       " 407             0          0  ...             NaN   \n",
       " \n",
       "                                            quotedTweet inReplyToTweetId  \\\n",
       " 0                                                 None              NaN   \n",
       " 1    {'_type': 'snscrape.modules.twitter.Tweet', 'u...              NaN   \n",
       " 2                                                 None     1.493366e+18   \n",
       " 3                                                 None              NaN   \n",
       " 4                                                 None              NaN   \n",
       " ..                                                 ...              ...   \n",
       " 403                                               None              NaN   \n",
       " 404  {'_type': 'snscrape.modules.twitter.Tweet', 'u...              NaN   \n",
       " 405                                               None              NaN   \n",
       " 406                                               None              NaN   \n",
       " 407  {'_type': 'snscrape.modules.twitter.Tweet', 'u...              NaN   \n",
       " \n",
       "                                          inReplyToUser  \\\n",
       " 0                                                 None   \n",
       " 1                                                 None   \n",
       " 2    {'_type': 'snscrape.modules.twitter.User', 'us...   \n",
       " 3                                                 None   \n",
       " 4                                                 None   \n",
       " ..                                                 ...   \n",
       " 403                                               None   \n",
       " 404                                               None   \n",
       " 405                                               None   \n",
       " 406                                               None   \n",
       " 407                                               None   \n",
       " \n",
       "                                         mentionedUsers coordinates place  \\\n",
       " 0    [{'_type': 'snscrape.modules.twitter.User', 'u...        None  None   \n",
       " 1                                                 None        None  None   \n",
       " 2    [{'_type': 'snscrape.modules.twitter.User', 'u...        None  None   \n",
       " 3                                                 None        None  None   \n",
       " 4                                                 None        None  None   \n",
       " ..                                                 ...         ...   ...   \n",
       " 403                                               None        None  None   \n",
       " 404                                               None        None  None   \n",
       " 405                                               None        None  None   \n",
       " 406  [{'_type': 'snscrape.modules.twitter.User', 'u...        None  None   \n",
       " 407  [{'_type': 'snscrape.modules.twitter.User', 'u...        None  None   \n",
       " \n",
       "                                               hashtags  cashtags  \\\n",
       " 0                [PunjabElections2022, AmandeepSandhu]       NaN   \n",
       " 1                                [PunjabElections2022]       NaN   \n",
       " 2                           [SSM, PunjabElections2022]       NaN   \n",
       " 3    [Punjab, PunjabElections2022, PunjabElections,...       NaN   \n",
       " 4    [VoteWisely, AssemblyElections2022, PunjabElec...       NaN   \n",
       " ..                                                 ...       ...   \n",
       " 403                              [PunjabElections2022]      None   \n",
       " 404                              [PunjabElections2022]      None   \n",
       " 405  [Punjab, PunjabElections, PunjabElections2022,...      None   \n",
       " 406              [ArvindKejriwal, PunjabElections2022]      None   \n",
       " 407                              [PunjabElections2022]      None   \n",
       " \n",
       "                                                   card  \n",
       " 0    {'_type': 'snscrape.modules.twitter.SummaryCar...  \n",
       " 1                                                 None  \n",
       " 2                                                 None  \n",
       " 3    {'_type': 'snscrape.modules.twitter.PlayerCard...  \n",
       " 4                                                 None  \n",
       " ..                                                 ...  \n",
       " 403                                               None  \n",
       " 404                                               None  \n",
       " 405  {'_type': 'snscrape.modules.twitter.PollCard',...  \n",
       " 406                                               None  \n",
       " 407                                               None  \n",
       " \n",
       " [6017 rows x 28 columns])"
      ]
     },
     "execution_count": 4,
     "metadata": {},
     "output_type": "execute_result"
    }
   ],
   "source": [
    "combine(\"misc/\")"
   ]
  },
  {
   "cell_type": "code",
   "execution_count": 5,
   "metadata": {},
   "outputs": [
    {
     "name": "stderr",
     "output_type": "stream",
     "text": [
      "100%|██████████| 56/56 [00:02<00:00, 19.68it/s]\n"
     ]
    },
    {
     "name": "stdout",
     "output_type": "stream",
     "text": [
      "(46969,)\n"
     ]
    },
    {
     "data": {
      "text/plain": [
       "(Empty DataFrame\n",
       " Columns: []\n",
       " Index: [],\n",
       " Empty DataFrame\n",
       " Columns: []\n",
       " Index: [],\n",
       "                               _type  \\\n",
       " 0    snscrape.modules.twitter.Tweet   \n",
       " 1    snscrape.modules.twitter.Tweet   \n",
       " 2    snscrape.modules.twitter.Tweet   \n",
       " 3    snscrape.modules.twitter.Tweet   \n",
       " 4    snscrape.modules.twitter.Tweet   \n",
       " ..                              ...   \n",
       " 995  snscrape.modules.twitter.Tweet   \n",
       " 996  snscrape.modules.twitter.Tweet   \n",
       " 997  snscrape.modules.twitter.Tweet   \n",
       " 998  snscrape.modules.twitter.Tweet   \n",
       " 999  snscrape.modules.twitter.Tweet   \n",
       " \n",
       "                                                    url  \\\n",
       " 0    https://twitter.com/wwwPoet/status/14933739075...   \n",
       " 1    https://twitter.com/wwwPoet/status/14933736852...   \n",
       " 2    https://twitter.com/bains7575/status/149337175...   \n",
       " 3    https://twitter.com/architectinus/status/14933...   \n",
       " 4    https://twitter.com/Iv_pinto/status/1493370661...   \n",
       " ..                                                 ...   \n",
       " 995  https://twitter.com/balliaticvishal/status/149...   \n",
       " 996  https://twitter.com/BLDADHICH/status/149094002...   \n",
       " 997  https://twitter.com/ramjank833/status/14909399...   \n",
       " 998  https://twitter.com/GetNewsd/status/1490939743...   \n",
       " 999  https://twitter.com/Maa_mylife/status/14909395...   \n",
       " \n",
       "                          date  \\\n",
       " 0   2022-02-14 23:57:39+00:00   \n",
       " 1   2022-02-14 23:56:46+00:00   \n",
       " 2   2022-02-14 23:49:05+00:00   \n",
       " 3   2022-02-14 23:45:39+00:00   \n",
       " 4   2022-02-14 23:44:45+00:00   \n",
       " ..                        ...   \n",
       " 995 2022-02-08 06:47:05+00:00   \n",
       " 996 2022-02-08 06:46:17+00:00   \n",
       " 997 2022-02-08 06:45:51+00:00   \n",
       " 998 2022-02-08 06:45:09+00:00   \n",
       " 999 2022-02-08 06:44:33+00:00   \n",
       " \n",
       "                                             rawContent  \\\n",
       " 0    @rajuparulekar @ECISVEEP @INCIndia And stop th...   \n",
       " 1    @rajuparulekar @ECISVEEP @INCIndia Please call...   \n",
       " 2    @INCIndia @RahulGandhi @rajnathsingh @AmitShah...   \n",
       " 3    @INCIndia And will keep dividing India to crea...   \n",
       " 4    In @INCIndia SM team is very weak or some what...   \n",
       " ..                                                 ...   \n",
       " 995  The country won't forgive you. \\n\\n@LambaAlka ...   \n",
       " 996  \"AAP, TMC can't give stable Government\" @priya...   \n",
       " 997               @priyankagandhi @rubycurrency Good 👍   \n",
       " 998  Priyanka Gandhi slams PM Modi over ‘migrant la...   \n",
       " 999  @ChiriyaKhana @RahulGandhi @priyankagandhi @AI...   \n",
       " \n",
       "                                        renderedContent                   id  \\\n",
       " 0    @rajuparulekar @ECISVEEP @INCIndia And stop th...  1493373907536994305   \n",
       " 1    @rajuparulekar @ECISVEEP @INCIndia Please call...  1493373685238951936   \n",
       " 2    @INCIndia @RahulGandhi @rajnathsingh @AmitShah...  1493371751358631940   \n",
       " 3    @INCIndia And will keep dividing India to crea...  1493370884609884168   \n",
       " 4    In @INCIndia SM team is very weak or some what...  1493370661187698688   \n",
       " ..                                                 ...                  ...   \n",
       " 995  The country won't forgive you. \\n\\n@LambaAlka ...  1490940229142073344   \n",
       " 996  \"AAP, TMC can't give stable Government\" @priya...  1490940025365995520   \n",
       " 997               @priyankagandhi @rubycurrency Good 👍  1490939918813523969   \n",
       " 998  Priyanka Gandhi slams PM Modi over ‘migrant la...  1490939743710121984   \n",
       " 999  @ChiriyaKhana @RahulGandhi @priyankagandhi @AI...  1490939589380669444   \n",
       " \n",
       "                                                   user  replyCount  \\\n",
       " 0    {'_type': 'snscrape.modules.twitter.User', 'us...           0   \n",
       " 1    {'_type': 'snscrape.modules.twitter.User', 'us...           1   \n",
       " 2    {'_type': 'snscrape.modules.twitter.User', 'us...           0   \n",
       " 3    {'_type': 'snscrape.modules.twitter.User', 'us...           0   \n",
       " 4    {'_type': 'snscrape.modules.twitter.User', 'us...           0   \n",
       " ..                                                 ...         ...   \n",
       " 995  {'_type': 'snscrape.modules.twitter.User', 'us...           0   \n",
       " 996  {'_type': 'snscrape.modules.twitter.User', 'us...           0   \n",
       " 997  {'_type': 'snscrape.modules.twitter.User', 'us...           0   \n",
       " 998  {'_type': 'snscrape.modules.twitter.User', 'us...           0   \n",
       " 999  {'_type': 'snscrape.modules.twitter.User', 'us...           1   \n",
       " \n",
       "      retweetCount  likeCount  ...  retweetedTweet  \\\n",
       " 0               0          0  ...             NaN   \n",
       " 1               0          0  ...             NaN   \n",
       " 2               0          1  ...             NaN   \n",
       " 3               0          0  ...             NaN   \n",
       " 4               1          1  ...             NaN   \n",
       " ..            ...        ...  ...             ...   \n",
       " 995             1          2  ...             NaN   \n",
       " 996             2          3  ...             NaN   \n",
       " 997             0          0  ...             NaN   \n",
       " 998             0          0  ...             NaN   \n",
       " 999             0          0  ...             NaN   \n",
       " \n",
       "                                            quotedTweet inReplyToTweetId  \\\n",
       " 0                                                 None     1.493374e+18   \n",
       " 1                                                 None     1.493098e+18   \n",
       " 2    {'_type': 'snscrape.modules.twitter.Tweet', 'u...              NaN   \n",
       " 3                                                 None     1.493286e+18   \n",
       " 4    {'_type': 'snscrape.modules.twitter.Tweet', 'u...              NaN   \n",
       " ..                                                 ...              ...   \n",
       " 995                                               None              NaN   \n",
       " 996                                               None              NaN   \n",
       " 997                                               None     1.475710e+18   \n",
       " 998                                               None              NaN   \n",
       " 999                                               None     1.490939e+18   \n",
       " \n",
       "                                          inReplyToUser  \\\n",
       " 0    {'_type': 'snscrape.modules.twitter.User', 'us...   \n",
       " 1    {'_type': 'snscrape.modules.twitter.User', 'us...   \n",
       " 2                                                 None   \n",
       " 3    {'_type': 'snscrape.modules.twitter.User', 'us...   \n",
       " 4                                                 None   \n",
       " ..                                                 ...   \n",
       " 995                                               None   \n",
       " 996                                               None   \n",
       " 997  {'_type': 'snscrape.modules.twitter.User', 'us...   \n",
       " 998                                               None   \n",
       " 999  {'_type': 'snscrape.modules.twitter.User', 'us...   \n",
       " \n",
       "                                         mentionedUsers coordinates place  \\\n",
       " 0    [{'_type': 'snscrape.modules.twitter.User', 'u...        None  None   \n",
       " 1    [{'_type': 'snscrape.modules.twitter.User', 'u...        None  None   \n",
       " 2    [{'_type': 'snscrape.modules.twitter.User', 'u...        None  None   \n",
       " 3    [{'_type': 'snscrape.modules.twitter.User', 'u...        None  None   \n",
       " 4    [{'_type': 'snscrape.modules.twitter.User', 'u...        None  None   \n",
       " ..                                                 ...         ...   ...   \n",
       " 995  [{'_type': 'snscrape.modules.twitter.User', 'u...        None  None   \n",
       " 996  [{'_type': 'snscrape.modules.twitter.User', 'u...        None  None   \n",
       " 997  [{'_type': 'snscrape.modules.twitter.User', 'u...        None  None   \n",
       " 998  [{'_type': 'snscrape.modules.twitter.User', 'u...        None  None   \n",
       " 999  [{'_type': 'snscrape.modules.twitter.User', 'u...        None  None   \n",
       " \n",
       "                                           hashtags  cashtags  \\\n",
       " 0                      [ElectionCommissionOfIndia]       NaN   \n",
       " 1                                             None       NaN   \n",
       " 2                                             None       NaN   \n",
       " 3                                             None       NaN   \n",
       " 4                                             None       NaN   \n",
       " ..                                             ...       ...   \n",
       " 995  [GoBackModi, PMinLokSabha, ModiInsultsPMpost]       NaN   \n",
       " 996                                     [Congress]       NaN   \n",
       " 997                                           None       NaN   \n",
       " 998                                           None       NaN   \n",
       " 999                                           None       NaN   \n",
       " \n",
       "                                                   card  \n",
       " 0                                                 None  \n",
       " 1                                                 None  \n",
       " 2                                                 None  \n",
       " 3                                                 None  \n",
       " 4                                                 None  \n",
       " ..                                                 ...  \n",
       " 995                                               None  \n",
       " 996                                               None  \n",
       " 997                                               None  \n",
       " 998  {'_type': 'snscrape.modules.twitter.SummaryCar...  \n",
       " 999                                               None  \n",
       " \n",
       " [46969 rows x 28 columns])"
      ]
     },
     "execution_count": 5,
     "metadata": {},
     "output_type": "execute_result"
    }
   ],
   "source": [
    "combine(\"congress/\")"
   ]
  },
  {
   "cell_type": "code",
   "execution_count": 6,
   "metadata": {},
   "outputs": [
    {
     "name": "stderr",
     "output_type": "stream",
     "text": [
      " 12%|█▎        | 16/128 [00:00<00:02, 45.94it/s]"
     ]
    },
    {
     "name": "stdout",
     "output_type": "stream",
     "text": [
      "#KejriwalVsAll-tweets-17.json\n",
      "#KejriwalVsAll-tweets-16.json\n"
     ]
    },
    {
     "name": "stderr",
     "output_type": "stream",
     "text": [
      " 26%|██▌       | 33/128 [00:00<00:02, 43.73it/s]"
     ]
    },
    {
     "name": "stdout",
     "output_type": "stream",
     "text": [
      "#KejriwalVsAll-tweets-9.json\n",
      "#KejriwalVsAll-tweets-11.json\n"
     ]
    },
    {
     "name": "stderr",
     "output_type": "stream",
     "text": [
      " 34%|███▎      | 43/128 [00:01<00:02, 40.43it/s]"
     ]
    },
    {
     "name": "stdout",
     "output_type": "stream",
     "text": [
      "#KejriwalVsAll-tweets-5.json\n"
     ]
    },
    {
     "name": "stderr",
     "output_type": "stream",
     "text": [
      " 45%|████▍     | 57/128 [00:01<00:02, 29.35it/s]"
     ]
    },
    {
     "name": "stdout",
     "output_type": "stream",
     "text": [
      "#KejriwalVsAll-tweets-4.json\n",
      "#KejriwalVsAll-tweets-10.json\n"
     ]
    },
    {
     "name": "stderr",
     "output_type": "stream",
     "text": [
      " 53%|█████▎    | 68/128 [00:01<00:01, 37.53it/s]"
     ]
    },
    {
     "name": "stdout",
     "output_type": "stream",
     "text": [
      "#KejriwalVsAll-tweets-8.json\n",
      "#KejriwalVsAll-tweets-13.json\n"
     ]
    },
    {
     "name": "stderr",
     "output_type": "stream",
     "text": [
      " 64%|██████▍   | 82/128 [00:02<00:01, 35.39it/s]"
     ]
    },
    {
     "name": "stdout",
     "output_type": "stream",
     "text": [
      "#KejriwalVsAll-tweets-7.json\n",
      "#KejriwalVsAll-tweets-6.json\n"
     ]
    },
    {
     "name": "stderr",
     "output_type": "stream",
     "text": [
      " 76%|███████▌  | 97/128 [00:02<00:00, 37.06it/s]"
     ]
    },
    {
     "name": "stdout",
     "output_type": "stream",
     "text": [
      "#KejriwalVsAll-tweets-12.json\n"
     ]
    },
    {
     "name": "stderr",
     "output_type": "stream",
     "text": [
      " 88%|████████▊ | 112/128 [00:03<00:00, 29.84it/s]"
     ]
    },
    {
     "name": "stdout",
     "output_type": "stream",
     "text": [
      "#KejriwalVsAll-tweets-15.json\n"
     ]
    },
    {
     "name": "stderr",
     "output_type": "stream",
     "text": [
      " 95%|█████████▌| 122/128 [00:03<00:00, 33.62it/s]"
     ]
    },
    {
     "name": "stdout",
     "output_type": "stream",
     "text": [
      "#KejriwalVsAll-tweets-14.json\n"
     ]
    },
    {
     "name": "stderr",
     "output_type": "stream",
     "text": [
      "100%|██████████| 128/128 [00:03<00:00, 33.07it/s]\n"
     ]
    },
    {
     "name": "stdout",
     "output_type": "stream",
     "text": [
      "(53388,)\n"
     ]
    },
    {
     "data": {
      "text/plain": [
       "(Empty DataFrame\n",
       " Columns: []\n",
       " Index: [],\n",
       " Empty DataFrame\n",
       " Columns: []\n",
       " Index: [],\n",
       "                              _type  \\\n",
       " 0   snscrape.modules.twitter.Tweet   \n",
       " 1   snscrape.modules.twitter.Tweet   \n",
       " 2   snscrape.modules.twitter.Tweet   \n",
       " 3   snscrape.modules.twitter.Tweet   \n",
       " 4   snscrape.modules.twitter.Tweet   \n",
       " ..                             ...   \n",
       " 78  snscrape.modules.twitter.Tweet   \n",
       " 79  snscrape.modules.twitter.Tweet   \n",
       " 80  snscrape.modules.twitter.Tweet   \n",
       " 81  snscrape.modules.twitter.Tweet   \n",
       " 82  snscrape.modules.twitter.Tweet   \n",
       " \n",
       "                                                   url  \\\n",
       " 0   https://twitter.com/madhavikanwar/status/14937...   \n",
       " 1   https://twitter.com/sanjeev0186/status/1493718...   \n",
       " 2   https://twitter.com/shuklap/status/14936942086...   \n",
       " 3   https://twitter.com/shuklap/status/14936904188...   \n",
       " 4   https://twitter.com/Yadwind44686397/status/149...   \n",
       " ..                                                ...   \n",
       " 78  https://twitter.com/rajanbhamba/status/1494119...   \n",
       " 79  https://twitter.com/rajanbhamba/status/1494119...   \n",
       " 80  https://twitter.com/kisan_HRY/status/149411883...   \n",
       " 81  https://twitter.com/kisan_HRY/status/149411880...   \n",
       " 82  https://twitter.com/kisan_HRY/status/149411877...   \n",
       " \n",
       "                         date  \\\n",
       " 0  2022-02-15 22:53:38+00:00   \n",
       " 1  2022-02-15 22:46:13+00:00   \n",
       " 2  2022-02-15 21:10:25+00:00   \n",
       " 3  2022-02-15 20:55:21+00:00   \n",
       " 4  2022-02-15 20:27:11+00:00   \n",
       " ..                       ...   \n",
       " 78 2022-02-17 01:22:09+00:00   \n",
       " 79 2022-02-17 01:22:04+00:00   \n",
       " 80 2022-02-17 01:17:44+00:00   \n",
       " 81 2022-02-17 01:17:37+00:00   \n",
       " 82 2022-02-17 01:17:29+00:00   \n",
       " \n",
       "                                            rawContent  \\\n",
       " 0   @DainikBhaskar @umashankarsingh @ArvindKejriwa...   \n",
       " 1   @ArvindKejriwal @AAPPunjab @BhagwantMann Punja...   \n",
       " 2   @govindermittal1 @AamAadmiParty @BhagwantMann ...   \n",
       " 3   #Punjab is all about Change ....vote is for @A...   \n",
       " 4   If you really want a world class health system...   \n",
       " ..                                                ...   \n",
       " 78  Kejriwal ji, do you really think Punjab has fo...   \n",
       " 79  Punjab will not trust a party that let it’s pe...   \n",
       " 80  A govt that makes big promises they never plan...   \n",
       " 81  Kejriwal ji, do you really think Punjab has fo...   \n",
       " 82  Punjab will not trust a party that let it’s pe...   \n",
       " \n",
       "                                       renderedContent                   id  \\\n",
       " 0   @DainikBhaskar @umashankarsingh @ArvindKejriwa...  1493720183667519489   \n",
       " 1   @ArvindKejriwal @AAPPunjab @BhagwantMann Punja...  1493718317932101640   \n",
       " 2   @govindermittal1 @AamAadmiParty @BhagwantMann ...  1493694208611291137   \n",
       " 3   #Punjab is all about Change ....vote is for @A...  1493690418818469890   \n",
       " 4   If you really want a world class health system...  1493683328876040192   \n",
       " ..                                                ...                  ...   \n",
       " 78  Kejriwal ji, do you really think Punjab has fo...  1494119948112699394   \n",
       " 79  Punjab will not trust a party that let it’s pe...  1494119924616232962   \n",
       " 80  A govt that makes big promises they never plan...  1494118836857032705   \n",
       " 81  Kejriwal ji, do you really think Punjab has fo...  1494118806007922689   \n",
       " 82  Punjab will not trust a party that let it’s pe...  1494118772491251716   \n",
       " \n",
       "                                                  user  replyCount  \\\n",
       " 0   {'_type': 'snscrape.modules.twitter.User', 'us...           0   \n",
       " 1   {'_type': 'snscrape.modules.twitter.User', 'us...           1   \n",
       " 2   {'_type': 'snscrape.modules.twitter.User', 'us...           0   \n",
       " 3   {'_type': 'snscrape.modules.twitter.User', 'us...           0   \n",
       " 4   {'_type': 'snscrape.modules.twitter.User', 'us...           0   \n",
       " ..                                                ...         ...   \n",
       " 78  {'_type': 'snscrape.modules.twitter.User', 'us...           0   \n",
       " 79  {'_type': 'snscrape.modules.twitter.User', 'us...           0   \n",
       " 80  {'_type': 'snscrape.modules.twitter.User', 'us...           0   \n",
       " 81  {'_type': 'snscrape.modules.twitter.User', 'us...           0   \n",
       " 82  {'_type': 'snscrape.modules.twitter.User', 'us...           0   \n",
       " \n",
       "     retweetCount  likeCount  ...  retweetedTweet  \\\n",
       " 0              1          0  ...             NaN   \n",
       " 1              0          0  ...             NaN   \n",
       " 2              0          1  ...             NaN   \n",
       " 3              0          0  ...             NaN   \n",
       " 4              5          6  ...             NaN   \n",
       " ..           ...        ...  ...             ...   \n",
       " 78             0          0  ...             NaN   \n",
       " 79             1          1  ...             NaN   \n",
       " 80             1          2  ...             NaN   \n",
       " 81             0          0  ...             NaN   \n",
       " 82             0          0  ...             NaN   \n",
       " \n",
       "                                           quotedTweet inReplyToTweetId  \\\n",
       " 0   {'_type': 'snscrape.modules.twitter.Tweet', 'u...     1.493492e+18   \n",
       " 1                                                None              NaN   \n",
       " 2                                                None     1.493610e+18   \n",
       " 3                                                None              NaN   \n",
       " 4                                                None              NaN   \n",
       " ..                                                ...              ...   \n",
       " 78                                               None              NaN   \n",
       " 79                                               None              NaN   \n",
       " 80                                               None              NaN   \n",
       " 81                                               None              NaN   \n",
       " 82                                               None              NaN   \n",
       " \n",
       "                                         inReplyToUser  \\\n",
       " 0   {'_type': 'snscrape.modules.twitter.User', 'us...   \n",
       " 1                                                None   \n",
       " 2   {'_type': 'snscrape.modules.twitter.User', 'us...   \n",
       " 3                                                None   \n",
       " 4                                                None   \n",
       " ..                                                ...   \n",
       " 78                                               None   \n",
       " 79                                               None   \n",
       " 80                                               None   \n",
       " 81                                               None   \n",
       " 82                                               None   \n",
       " \n",
       "                                        mentionedUsers  \\\n",
       " 0   [{'_type': 'snscrape.modules.twitter.User', 'u...   \n",
       " 1   [{'_type': 'snscrape.modules.twitter.User', 'u...   \n",
       " 2   [{'_type': 'snscrape.modules.twitter.User', 'u...   \n",
       " 3   [{'_type': 'snscrape.modules.twitter.User', 'u...   \n",
       " 4   [{'_type': 'snscrape.modules.twitter.User', 'u...   \n",
       " ..                                                ...   \n",
       " 78                                               None   \n",
       " 79                                               None   \n",
       " 80                                               None   \n",
       " 81                                               None   \n",
       " 82                                               None   \n",
       " \n",
       "                                           coordinates  \\\n",
       " 0                                                None   \n",
       " 1                                                None   \n",
       " 2   {'_type': 'snscrape.modules.twitter.Coordinate...   \n",
       " 3   {'_type': 'snscrape.modules.twitter.Coordinate...   \n",
       " 4                                                None   \n",
       " ..                                                ...   \n",
       " 78                                               None   \n",
       " 79                                               None   \n",
       " 80                                               None   \n",
       " 81                                               None   \n",
       " 82                                               None   \n",
       " \n",
       "                                                 place  \\\n",
       " 0                                                None   \n",
       " 1                                                None   \n",
       " 2   {'_type': 'snscrape.modules.twitter.Place', 'f...   \n",
       " 3   {'_type': 'snscrape.modules.twitter.Place', 'f...   \n",
       " 4                                                None   \n",
       " ..                                                ...   \n",
       " 78                                               None   \n",
       " 79                                               None   \n",
       " 80                                               None   \n",
       " 81                                               None   \n",
       " 82                                               None   \n",
       " \n",
       "                              hashtags  cashtags  \\\n",
       " 0                                None       NaN   \n",
       " 1                                None       NaN   \n",
       " 2               [PunjabElections2022]       NaN   \n",
       " 3       [Punjab, PunjabElections2022]       NaN   \n",
       " 4   [AAP, IkMaukaAAPNu, VoteForJhadu]       NaN   \n",
       " ..                                ...       ...   \n",
       " 78                        [AAPdePaap]       NaN   \n",
       " 79                        [AAPdePaap]       NaN   \n",
       " 80                        [AAPdePaap]       NaN   \n",
       " 81                        [AAPdePaap]       NaN   \n",
       " 82                        [AAPdePaap]       NaN   \n",
       " \n",
       "                                                  card  \n",
       " 0                                                None  \n",
       " 1                                                None  \n",
       " 2                                                None  \n",
       " 3   {'_type': 'snscrape.modules.twitter.PlayerCard...  \n",
       " 4                                                None  \n",
       " ..                                                ...  \n",
       " 78                                               None  \n",
       " 79                                               None  \n",
       " 80                                               None  \n",
       " 81                                               None  \n",
       " 82                                               None  \n",
       " \n",
       " [53388 rows x 28 columns])"
      ]
     },
     "execution_count": 6,
     "metadata": {},
     "output_type": "execute_result"
    }
   ],
   "source": [
    "combine(\"aap/\")"
   ]
  },
  {
   "cell_type": "code",
   "execution_count": 7,
   "metadata": {},
   "outputs": [
    {
     "name": "stderr",
     "output_type": "stream",
     "text": [
      "100%|██████████| 98/98 [00:13<00:00,  7.47it/s]\n"
     ]
    },
    {
     "name": "stdout",
     "output_type": "stream",
     "text": [
      "(85512,)\n"
     ]
    }
   ],
   "source": [
    "up,punjab,rest = combine(\"bjp/\")"
   ]
  },
  {
   "cell_type": "code",
   "execution_count": 14,
   "metadata": {},
   "outputs": [],
   "source": [
    "def categorize(bjp_df):\n",
    "    UP_list = [\"yogi\",\"#bjpwinningup\",\"up\",\"uttar\",\"pradesh\",\"adityanath\",\"#upelections2022\",\"#uttarpradeshelections2022\"]\n",
    "    Punjab_list = [\"punjab\",\"#punjabelections2022\",\"channi\",\"@charanjitchanni\",\"charanjit\",\"#punjab\"]\n",
    "    # add column for query\n",
    "    bjp_df[\"query\"] = \"bjp\"\n",
    "\n",
    "    for i,row in tqdm(bjp_df.iterrows(),total=len(bjp_df.index)):\n",
    "        # loop.update(1)\n",
    "        tweet = row['renderedContent'].lower()\n",
    "        words = tweet.split()\n",
    "        for w in words:\n",
    "            if w in UP_list:\n",
    "                bjp_df.loc[i, 'query'] = \"BJP_UP\"\n",
    "                break\n",
    "            elif w in Punjab_list:\n",
    "                bjp_df.loc[i, 'query'] = \"BJP_Punjab\"\n",
    "                break\n",
    "            else:\n",
    "                bjp_df.loc[i, 'query'] = \"REST\"\n",
    "\n",
    "    return bjp_df"
   ]
  },
  {
   "cell_type": "code",
   "execution_count": 15,
   "metadata": {},
   "outputs": [],
   "source": [
    "up[\"query\"] = \"BJP_UP\""
   ]
  },
  {
   "cell_type": "code",
   "execution_count": 16,
   "metadata": {},
   "outputs": [
    {
     "name": "stderr",
     "output_type": "stream",
     "text": [
      "100%|██████████| 62802/62802 [05:25<00:00, 193.09it/s]\n"
     ]
    }
   ],
   "source": [
    "rest_categorized = categorize(rest)"
   ]
  },
  {
   "cell_type": "code",
   "execution_count": 17,
   "metadata": {},
   "outputs": [],
   "source": [
    "punjab[\"query\"] = \"BJP_Punjab\""
   ]
  },
  {
   "cell_type": "code",
   "execution_count": 18,
   "metadata": {},
   "outputs": [],
   "source": [
    "# concat\n",
    "bjp_df = pd.concat([up,punjab,rest_categorized])"
   ]
  },
  {
   "cell_type": "code",
   "execution_count": 20,
   "metadata": {},
   "outputs": [
    {
     "data": {
      "text/plain": [
       "query\n",
       "REST          59612\n",
       "BJP_Punjab    23244\n",
       "BJP_UP         2656\n",
       "dtype: int64"
      ]
     },
     "execution_count": 20,
     "metadata": {},
     "output_type": "execute_result"
    }
   ],
   "source": [
    "# get count based on query\n",
    "bjp_df.value_counts(\"query\")"
   ]
  },
  {
   "cell_type": "code",
   "execution_count": 21,
   "metadata": {},
   "outputs": [],
   "source": [
    "bjp_df.to_csv(\"bjp_categorized.csv\", index=False)"
   ]
  },
  {
   "cell_type": "code",
   "execution_count": null,
   "metadata": {},
   "outputs": [],
   "source": []
  }
 ],
 "metadata": {
  "kernelspec": {
   "display_name": "Python 3.9.13 64-bit",
   "language": "python",
   "name": "python3"
  },
  "language_info": {
   "codemirror_mode": {
    "name": "ipython",
    "version": 3
   },
   "file_extension": ".py",
   "mimetype": "text/x-python",
   "name": "python",
   "nbconvert_exporter": "python",
   "pygments_lexer": "ipython3",
   "version": "3.10.6"
  },
  "orig_nbformat": 4,
  "vscode": {
   "interpreter": {
    "hash": "b0fa6594d8f4cbf19f97940f81e996739fb7646882a419484c72d19e05852a7e"
   }
  }
 },
 "nbformat": 4,
 "nbformat_minor": 2
}
