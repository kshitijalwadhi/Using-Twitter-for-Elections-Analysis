{
 "cells": [
  {
   "cell_type": "code",
   "execution_count": 1,
   "metadata": {},
   "outputs": [],
   "source": [
    "import os\n",
    "import pandas as pd\n",
    "from tqdm import tqdm"
   ]
  },
  {
   "cell_type": "code",
   "execution_count": 2,
   "metadata": {},
   "outputs": [],
   "source": [
    "def combine(folder):\n",
    "    i = 0\n",
    "    files = os.listdir(folder)\n",
    "    for file in tqdm(files):\n",
    "            try:\n",
    "                if (i==0):\n",
    "                    df = pd.read_json(folder + file, lines=True)\n",
    "                    combined = df[\"renderedContent\"]\n",
    "                    i = 1\n",
    "                else:\n",
    "                    df = pd.read_json(folder + file, lines=True)\n",
    "                    combined = pd.concat([combined, df[\"renderedContent\"]],)\n",
    "            except:\n",
    "                print(file)\n",
    "\n",
    "    print(combined.shape)\n",
    "    combined.to_csv(folder[0:len(folder)-1]+\".csvi\", index=False)\n",
    "\n",
    "    return(combined)"
   ]
  },
  {
   "cell_type": "code",
   "execution_count": 3,
   "metadata": {},
   "outputs": [
    {
     "name": "stderr",
     "output_type": "stream",
     "text": [
      "100%|██████████| 14/14 [00:00<00:00, 34.43it/s]"
     ]
    },
    {
     "name": "stdout",
     "output_type": "stream",
     "text": [
      "(6017,)\n"
     ]
    },
    {
     "name": "stderr",
     "output_type": "stream",
     "text": [
      "\n"
     ]
    },
    {
     "data": {
      "text/plain": [
       "0      @_asandhu ✊🏽🇮🇳✊🏽\\n#PunjabElections2022 \\n“In a...\n",
       "1      Mann Mann hoyi payi hai 🔥🔥🔥\\n\\n#PunjabElection...\n",
       "2      @jdhillonA You’re too sweet, JD. But the hard ...\n",
       "3      m.youtube.com/watch?v=Zraivo…\\n\\nAn appeal2 #P...\n",
       "4      Let us elect a govt that focuses on Education,...\n",
       "                             ...                        \n",
       "403    Bhagwant Mann (AAP's Punjab CM candidate) is a...\n",
       "404    #PunjabElections2022\\n\\nRequest to all brother...\n",
       "405    Which government would you like to see for the...\n",
       "406    @DrKumarVishwas is communal and dishonest in a...\n",
       "407    Is spreading fake news allowed, @ECISVEEP? How...\n",
       "Name: renderedContent, Length: 6017, dtype: object"
      ]
     },
     "execution_count": 3,
     "metadata": {},
     "output_type": "execute_result"
    }
   ],
   "source": [
    "combine(\"misc/\")"
   ]
  },
  {
   "cell_type": "code",
   "execution_count": 4,
   "metadata": {},
   "outputs": [
    {
     "name": "stderr",
     "output_type": "stream",
     "text": [
      "100%|██████████| 56/56 [00:02<00:00, 19.56it/s]\n"
     ]
    },
    {
     "name": "stdout",
     "output_type": "stream",
     "text": [
      "(46969,)\n"
     ]
    },
    {
     "data": {
      "text/plain": [
       "0      @rajuparulekar @ECISVEEP @INCIndia And stop th...\n",
       "1      @rajuparulekar @ECISVEEP @INCIndia Please call...\n",
       "2      @INCIndia @RahulGandhi @rajnathsingh @AmitShah...\n",
       "3      @INCIndia And will keep dividing India to crea...\n",
       "4      In @INCIndia SM team is very weak or some what...\n",
       "                             ...                        \n",
       "995    The country won't forgive you. \\n\\n@LambaAlka ...\n",
       "996    \"AAP, TMC can't give stable Government\" @priya...\n",
       "997                 @priyankagandhi @rubycurrency Good 👍\n",
       "998    Priyanka Gandhi slams PM Modi over ‘migrant la...\n",
       "999    @ChiriyaKhana @RahulGandhi @priyankagandhi @AI...\n",
       "Name: renderedContent, Length: 46969, dtype: object"
      ]
     },
     "execution_count": 4,
     "metadata": {},
     "output_type": "execute_result"
    }
   ],
   "source": [
    "combine(\"congress/\")"
   ]
  },
  {
   "cell_type": "code",
   "execution_count": null,
   "metadata": {},
   "outputs": [],
   "source": []
  },
  {
   "cell_type": "code",
   "execution_count": 5,
   "metadata": {},
   "outputs": [
    {
     "name": "stderr",
     "output_type": "stream",
     "text": [
      " 16%|█▋        | 21/128 [00:00<00:02, 47.89it/s]"
     ]
    },
    {
     "name": "stdout",
     "output_type": "stream",
     "text": [
      "#KejriwalVsAll-tweets-17.json\n",
      "#KejriwalVsAll-tweets-16.json\n"
     ]
    },
    {
     "name": "stderr",
     "output_type": "stream",
     "text": [
      " 29%|██▉       | 37/128 [00:00<00:01, 47.03it/s]"
     ]
    },
    {
     "name": "stdout",
     "output_type": "stream",
     "text": [
      "#KejriwalVsAll-tweets-9.json\n",
      "#KejriwalVsAll-tweets-11.json\n"
     ]
    },
    {
     "name": "stderr",
     "output_type": "stream",
     "text": [
      " 33%|███▎      | 42/128 [00:01<00:02, 38.99it/s]"
     ]
    },
    {
     "name": "stdout",
     "output_type": "stream",
     "text": [
      "#KejriwalVsAll-tweets-5.json\n"
     ]
    },
    {
     "name": "stderr",
     "output_type": "stream",
     "text": [
      " 44%|████▍     | 56/128 [00:01<00:01, 36.30it/s]"
     ]
    },
    {
     "name": "stdout",
     "output_type": "stream",
     "text": [
      "#KejriwalVsAll-tweets-4.json\n",
      "#KejriwalVsAll-tweets-10.json\n"
     ]
    },
    {
     "name": "stderr",
     "output_type": "stream",
     "text": [
      " 52%|█████▏    | 67/128 [00:01<00:01, 41.76it/s]"
     ]
    },
    {
     "name": "stdout",
     "output_type": "stream",
     "text": [
      "#KejriwalVsAll-tweets-8.json\n",
      "#KejriwalVsAll-tweets-13.json\n"
     ]
    },
    {
     "name": "stderr",
     "output_type": "stream",
     "text": [
      " 60%|██████    | 77/128 [00:01<00:01, 38.67it/s]"
     ]
    },
    {
     "name": "stdout",
     "output_type": "stream",
     "text": [
      "#KejriwalVsAll-tweets-7.json\n",
      "#KejriwalVsAll-tweets-6.json\n"
     ]
    },
    {
     "name": "stderr",
     "output_type": "stream",
     "text": [
      " 73%|███████▎  | 94/128 [00:02<00:01, 33.43it/s]"
     ]
    },
    {
     "name": "stdout",
     "output_type": "stream",
     "text": [
      "#KejriwalVsAll-tweets-12.json\n"
     ]
    },
    {
     "name": "stderr",
     "output_type": "stream",
     "text": [
      " 89%|████████▉ | 114/128 [00:03<00:00, 36.73it/s]"
     ]
    },
    {
     "name": "stdout",
     "output_type": "stream",
     "text": [
      "#KejriwalVsAll-tweets-15.json\n"
     ]
    },
    {
     "name": "stderr",
     "output_type": "stream",
     "text": [
      " 96%|█████████▌| 123/128 [00:03<00:00, 36.78it/s]"
     ]
    },
    {
     "name": "stdout",
     "output_type": "stream",
     "text": [
      "#KejriwalVsAll-tweets-14.json\n"
     ]
    },
    {
     "name": "stderr",
     "output_type": "stream",
     "text": [
      "100%|██████████| 128/128 [00:03<00:00, 36.77it/s]\n"
     ]
    },
    {
     "name": "stdout",
     "output_type": "stream",
     "text": [
      "(53388,)\n"
     ]
    },
    {
     "data": {
      "text/plain": [
       "0     @DainikBhaskar @umashankarsingh @ArvindKejriwa...\n",
       "1     @ArvindKejriwal @AAPPunjab @BhagwantMann Punja...\n",
       "2     @govindermittal1 @AamAadmiParty @BhagwantMann ...\n",
       "3     #Punjab is all about Change ....vote is for @A...\n",
       "4     If you really want a world class health system...\n",
       "                            ...                        \n",
       "78    Kejriwal ji, do you really think Punjab has fo...\n",
       "79    Punjab will not trust a party that let it’s pe...\n",
       "80    A govt that makes big promises they never plan...\n",
       "81    Kejriwal ji, do you really think Punjab has fo...\n",
       "82    Punjab will not trust a party that let it’s pe...\n",
       "Name: renderedContent, Length: 53388, dtype: object"
      ]
     },
     "execution_count": 5,
     "metadata": {},
     "output_type": "execute_result"
    }
   ],
   "source": [
    "combine(\"aap/\")"
   ]
  },
  {
   "cell_type": "code",
   "execution_count": 6,
   "metadata": {},
   "outputs": [
    {
     "name": "stderr",
     "output_type": "stream",
     "text": [
      "100%|██████████| 98/98 [00:05<00:00, 19.14it/s]\n"
     ]
    },
    {
     "name": "stdout",
     "output_type": "stream",
     "text": [
      "(85512,)\n"
     ]
    }
   ],
   "source": [
    "bjp_df = combine(\"bjp/\")"
   ]
  },
  {
   "cell_type": "code",
   "execution_count": 7,
   "metadata": {},
   "outputs": [
    {
     "name": "stderr",
     "output_type": "stream",
     "text": [
      "100%|██████████| 85512/85512 [19:16<00:00, 73.91it/s] \n"
     ]
    }
   ],
   "source": [
    "UP_list = [\"yogi\",\"#bjpwinningup\",\"up\",\"uttar\",\"pradesh\",\"adityanath\",\"#upelections2022\",\"#uttarpradeshelections2022\"]\n",
    "Punjab_list = [\"punjab\",\"#punjabelections2022\",\"channi\",\"@charanjitchanni\",\"charanjit\",\"#punjab\"]\n",
    "# add column for query\n",
    "bjp_df = bjp_df.to_frame()\n",
    "bjp_df[\"query\"] = \"bjp\"\n",
    "\n",
    "for i,row in tqdm(bjp_df.iterrows(),total=len(bjp_df.index)):\n",
    "    # loop.update(1)\n",
    "    tweet = row['renderedContent'].lower()\n",
    "    words = tweet.split()\n",
    "    for w in words:\n",
    "        if w in UP_list:\n",
    "            bjp_df.loc[i, 'query'] = \"BJP_UP\"\n",
    "            break\n",
    "        elif w in Punjab_list:\n",
    "            bjp_df.loc[i, 'query'] = \"BJP_Punjab\"\n",
    "            break\n",
    "        else:\n",
    "            bjp_df.loc[i, 'query'] = \"REST\"\n",
    "\n",
    "bjp_df.to_csv(\"bjp_categorized.csv\", index=False)"
   ]
  },
  {
   "cell_type": "code",
   "execution_count": null,
   "metadata": {},
   "outputs": [],
   "source": []
  }
 ],
 "metadata": {
  "kernelspec": {
   "display_name": "Python 3.9.13 64-bit",
   "language": "python",
   "name": "python3"
  },
  "language_info": {
   "codemirror_mode": {
    "name": "ipython",
    "version": 3
   },
   "file_extension": ".py",
   "mimetype": "text/x-python",
   "name": "python",
   "nbconvert_exporter": "python",
   "pygments_lexer": "ipython3",
   "version": "3.9.13"
  },
  "orig_nbformat": 4,
  "vscode": {
   "interpreter": {
    "hash": "b0fa6594d8f4cbf19f97940f81e996739fb7646882a419484c72d19e05852a7e"
   }
  }
 },
 "nbformat": 4,
 "nbformat_minor": 2
}
