{
 "cells": [
  {
   "cell_type": "code",
   "execution_count": 3,
   "metadata": {},
   "outputs": [],
   "source": [
    "import os\n",
    "from tqdm import tqdm"
   ]
  },
  {
   "cell_type": "code",
   "execution_count": 4,
   "metadata": {},
   "outputs": [],
   "source": [
    "bjp_search_list = [\"bjp\",\"@BJP4India\",\"@narendramodi\",\"@AmitShah\"]\n",
    "bjp_search_list_2 = [\"@JPNadda\",\"@CHARANJITCHANNI\",\"channi\"]\n",
    "aap_search_list = [\"aam aadmi party\",\"#AAP\",\"@AamAadmiParty\",\"kejriwal\",\"#ArvindKejriwal\",\"@AAPPunjab\",\"#KejriwalVsAll\",\"@ArvindKejriwal\",\"#AAPdePaap\",\"@msisodia\",\"@BhagwantMann\"]\n",
    "inc_search_list = [\"@INCIndia\",\"@RahulGandhi\",\"Rahul Gandhi\",\"@INCPunjab\",\"@priyankagandhi\"]\n",
    "general_search_list = [\"#PunjabElections2022\"]"
   ]
  },
  {
   "cell_type": "code",
   "execution_count": 6,
   "metadata": {},
   "outputs": [],
   "source": [
    "date_prefix = \"2022-02-\""
   ]
  },
  {
   "cell_type": "code",
   "execution_count": 7,
   "metadata": {},
   "outputs": [
    {
     "name": "stderr",
     "output_type": "stream",
     "text": [
      "  0%|          | 0/31 [00:00<?, ?it/s]"
     ]
    }
   ],
   "source": [
    "all_list = bjp_search_list + bjp_search_list_2 + aap_search_list + inc_search_list + general_search_list\n",
    "for i in tqdm(range(4,18)):\n",
    "    start_date = date_prefix + str(i)\n",
    "    end_date = date_prefix + str(i+1)\n",
    "    for query in tqdm(all_list):\n",
    "        os.system(f\"snscrape --jsonl --max-results 1000 --since {start_date} twitter-search '{query} until:{end_date} lang:en' > data/all/{query}-tweets-{i}.json\")"
   ]
  },
  {
   "cell_type": "code",
   "execution_count": null,
   "metadata": {},
   "outputs": [],
   "source": []
  },
  {
   "cell_type": "code",
   "execution_count": 1,
   "metadata": {},
   "outputs": [],
   "source": [
    "import pandas as pd"
   ]
  },
  {
   "cell_type": "code",
   "execution_count": 2,
   "metadata": {},
   "outputs": [],
   "source": [
    "tweets_df = pd.read_json(\"data/all/1-bjp-tweets.json\", lines=True)"
   ]
  },
  {
   "cell_type": "code",
   "execution_count": 8,
   "metadata": {},
   "outputs": [
    {
     "data": {
      "text/plain": [
       "'UP: BJP Announces 17 More Candidates, Law Minister Brajesh Pathak To Contest From Lucknow\\xa0Cantt newsinsure.in/up-bjp-announc…'"
      ]
     },
     "execution_count": 8,
     "metadata": {},
     "output_type": "execute_result"
    }
   ],
   "source": [
    "tweets_df.head()[\"renderedContent\"][3]"
   ]
  },
  {
   "cell_type": "code",
   "execution_count": null,
   "metadata": {},
   "outputs": [],
   "source": []
  }
 ],
 "metadata": {
  "kernelspec": {
   "display_name": "Python 3.10.4 64-bit",
   "language": "python",
   "name": "python3"
  },
  "language_info": {
   "codemirror_mode": {
    "name": "ipython",
    "version": 3
   },
   "file_extension": ".py",
   "mimetype": "text/x-python",
   "name": "python",
   "nbconvert_exporter": "python",
   "pygments_lexer": "ipython3",
   "version": "3.10.4"
  },
  "orig_nbformat": 4,
  "vscode": {
   "interpreter": {
    "hash": "916dbcbb3f70747c44a77c7bcd40155683ae19c65e1c03b4aa3499c5328201f1"
   }
  }
 },
 "nbformat": 4,
 "nbformat_minor": 2
}
