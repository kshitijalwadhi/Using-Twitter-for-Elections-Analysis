{
 "cells": [
  {
   "cell_type": "code",
   "execution_count": 2,
   "metadata": {},
   "outputs": [],
   "source": [
    "import pandas as pd\n",
    "from sentiment import load_models,predict, predict_vader\n",
    "from preprocess import preprocessList\n",
    "import os\n",
    "import numpy as np\n",
    "from textblob import TextBlob\n",
    "from nltk.util import ngrams\n",
    "from nltk.classify import NaiveBayesClassifier\n",
    "from nltk.corpus import subjectivity\n",
    "from nltk.sentiment import SentimentAnalyzer\n",
    "from nltk.sentiment.util import *\n",
    "from nltk.sentiment.vader import SentimentIntensityAnalyzer\n",
    "from tqdm import tqdm"
   ]
  },
  {
   "cell_type": "code",
   "execution_count": 3,
   "metadata": {},
   "outputs": [],
   "source": [
    "def getSubjectivity(text):\n",
    "    return TextBlob(text).sentiment.subjectivity\n",
    "def getPolarity(text):\n",
    "    return TextBlob(text).sentiment.polarity\n",
    "def getAnalysis(score):\n",
    "    if score < 0:\n",
    "        return 'negative'\n",
    "    elif score==0:\n",
    "        return 'neutral'\n",
    "    else:\n",
    "        return 'positive'"
   ]
  },
  {
   "cell_type": "code",
   "execution_count": 4,
   "metadata": {},
   "outputs": [],
   "source": [
    "path = \"/Users/kshitijalwadhi/Documents/Github/Using-Twitter-for-Elections-Analysis/Twitter Scrape/data/feb_scrape/consolidated\"\n",
    "files = os.listdir(path)"
   ]
  },
  {
   "cell_type": "code",
   "execution_count": 6,
   "metadata": {},
   "outputs": [],
   "source": [
    "df = pd.read_csv(path+\"/\"+files[0])"
   ]
  },
  {
   "cell_type": "code",
   "execution_count": 7,
   "metadata": {},
   "outputs": [
    {
     "data": {
      "text/html": [
       "<div>\n",
       "<style scoped>\n",
       "    .dataframe tbody tr th:only-of-type {\n",
       "        vertical-align: middle;\n",
       "    }\n",
       "\n",
       "    .dataframe tbody tr th {\n",
       "        vertical-align: top;\n",
       "    }\n",
       "\n",
       "    .dataframe thead th {\n",
       "        text-align: right;\n",
       "    }\n",
       "</style>\n",
       "<table border=\"1\" class=\"dataframe\">\n",
       "  <thead>\n",
       "    <tr style=\"text-align: right;\">\n",
       "      <th></th>\n",
       "      <th>query</th>\n",
       "      <th>_type</th>\n",
       "      <th>url</th>\n",
       "      <th>date</th>\n",
       "      <th>rawContent</th>\n",
       "      <th>renderedContent</th>\n",
       "      <th>id</th>\n",
       "      <th>user</th>\n",
       "      <th>replyCount</th>\n",
       "      <th>retweetCount</th>\n",
       "      <th>...</th>\n",
       "      <th>retweetedTweet</th>\n",
       "      <th>quotedTweet</th>\n",
       "      <th>inReplyToTweetId</th>\n",
       "      <th>inReplyToUser</th>\n",
       "      <th>mentionedUsers</th>\n",
       "      <th>coordinates</th>\n",
       "      <th>place</th>\n",
       "      <th>hashtags</th>\n",
       "      <th>cashtags</th>\n",
       "      <th>card</th>\n",
       "    </tr>\n",
       "  </thead>\n",
       "  <tbody>\n",
       "    <tr>\n",
       "      <th>0</th>\n",
       "      <td>BJP_Punjab</td>\n",
       "      <td>snscrape.modules.twitter.Tweet</td>\n",
       "      <td>https://twitter.com/bbang_channi/status/149264...</td>\n",
       "      <td>2022-02-12 23:26:27+00:00</td>\n",
       "      <td>Good morning lovies :))) did you sleep well ?❤️❤️</td>\n",
       "      <td>Good morning lovies :))) did you sleep well ?❤️❤️</td>\n",
       "      <td>1.492641e+18</td>\n",
       "      <td>{'_type': 'snscrape.modules.twitter.User', 'us...</td>\n",
       "      <td>0.0</td>\n",
       "      <td>0.0</td>\n",
       "      <td>...</td>\n",
       "      <td>NaN</td>\n",
       "      <td>NaN</td>\n",
       "      <td>NaN</td>\n",
       "      <td>NaN</td>\n",
       "      <td>NaN</td>\n",
       "      <td>NaN</td>\n",
       "      <td>NaN</td>\n",
       "      <td>NaN</td>\n",
       "      <td>NaN</td>\n",
       "      <td>NaN</td>\n",
       "    </tr>\n",
       "    <tr>\n",
       "      <th>1</th>\n",
       "      <td>BJP_Punjab</td>\n",
       "      <td>snscrape.modules.twitter.Tweet</td>\n",
       "      <td>https://twitter.com/bbang_channi/status/149263...</td>\n",
       "      <td>2022-02-12 23:20:05+00:00</td>\n",
       "      <td>@H4NJISILENTCRY facts right here</td>\n",
       "      <td>@H4NJISILENTCRY facts right here</td>\n",
       "      <td>1.492640e+18</td>\n",
       "      <td>{'_type': 'snscrape.modules.twitter.User', 'us...</td>\n",
       "      <td>0.0</td>\n",
       "      <td>0.0</td>\n",
       "      <td>...</td>\n",
       "      <td>NaN</td>\n",
       "      <td>NaN</td>\n",
       "      <td>1.492639e+18</td>\n",
       "      <td>{'_type': 'snscrape.modules.twitter.User', 'us...</td>\n",
       "      <td>NaN</td>\n",
       "      <td>NaN</td>\n",
       "      <td>NaN</td>\n",
       "      <td>NaN</td>\n",
       "      <td>NaN</td>\n",
       "      <td>NaN</td>\n",
       "    </tr>\n",
       "    <tr>\n",
       "      <th>2</th>\n",
       "      <td>BJP_Punjab</td>\n",
       "      <td>snscrape.modules.twitter.Tweet</td>\n",
       "      <td>https://twitter.com/Chirruped/status/149263702...</td>\n",
       "      <td>2022-02-12 23:09:33+00:00</td>\n",
       "      <td>Doesn't look like it is going to be a straight...</td>\n",
       "      <td>Doesn't look like it is going to be a straight...</td>\n",
       "      <td>1.492637e+18</td>\n",
       "      <td>{'_type': 'snscrape.modules.twitter.User', 'us...</td>\n",
       "      <td>0.0</td>\n",
       "      <td>0.0</td>\n",
       "      <td>...</td>\n",
       "      <td>NaN</td>\n",
       "      <td>NaN</td>\n",
       "      <td>NaN</td>\n",
       "      <td>NaN</td>\n",
       "      <td>[{'_type': 'snscrape.modules.twitter.User', 'u...</td>\n",
       "      <td>NaN</td>\n",
       "      <td>NaN</td>\n",
       "      <td>NaN</td>\n",
       "      <td>NaN</td>\n",
       "      <td>NaN</td>\n",
       "    </tr>\n",
       "    <tr>\n",
       "      <th>3</th>\n",
       "      <td>BJP_Punjab</td>\n",
       "      <td>snscrape.modules.twitter.Tweet</td>\n",
       "      <td>https://twitter.com/bostoniancskfan/status/149...</td>\n",
       "      <td>2022-02-12 22:38:25+00:00</td>\n",
       "      <td>@TimesNow If so, why sidhu’s family members ar...</td>\n",
       "      <td>@TimesNow If so, why sidhu’s family members ar...</td>\n",
       "      <td>1.492629e+18</td>\n",
       "      <td>{'_type': 'snscrape.modules.twitter.User', 'us...</td>\n",
       "      <td>0.0</td>\n",
       "      <td>0.0</td>\n",
       "      <td>...</td>\n",
       "      <td>NaN</td>\n",
       "      <td>NaN</td>\n",
       "      <td>1.492620e+18</td>\n",
       "      <td>{'_type': 'snscrape.modules.twitter.User', 'us...</td>\n",
       "      <td>[{'_type': 'snscrape.modules.twitter.User', 'u...</td>\n",
       "      <td>NaN</td>\n",
       "      <td>NaN</td>\n",
       "      <td>NaN</td>\n",
       "      <td>NaN</td>\n",
       "      <td>NaN</td>\n",
       "    </tr>\n",
       "    <tr>\n",
       "      <th>4</th>\n",
       "      <td>BJP_Punjab</td>\n",
       "      <td>snscrape.modules.twitter.Tweet</td>\n",
       "      <td>https://twitter.com/Rashpal27703387/status/149...</td>\n",
       "      <td>2022-02-12 22:36:29+00:00</td>\n",
       "      <td>@iJasOberoi It about understanding. Issues rai...</td>\n",
       "      <td>@iJasOberoi It about understanding. Issues rai...</td>\n",
       "      <td>1.492629e+18</td>\n",
       "      <td>{'_type': 'snscrape.modules.twitter.User', 'us...</td>\n",
       "      <td>0.0</td>\n",
       "      <td>0.0</td>\n",
       "      <td>...</td>\n",
       "      <td>NaN</td>\n",
       "      <td>NaN</td>\n",
       "      <td>1.492571e+18</td>\n",
       "      <td>{'_type': 'snscrape.modules.twitter.User', 'us...</td>\n",
       "      <td>[{'_type': 'snscrape.modules.twitter.User', 'u...</td>\n",
       "      <td>NaN</td>\n",
       "      <td>NaN</td>\n",
       "      <td>NaN</td>\n",
       "      <td>NaN</td>\n",
       "      <td>NaN</td>\n",
       "    </tr>\n",
       "  </tbody>\n",
       "</table>\n",
       "<p>5 rows × 29 columns</p>\n",
       "</div>"
      ],
      "text/plain": [
       "        query                           _type  \\\n",
       "0  BJP_Punjab  snscrape.modules.twitter.Tweet   \n",
       "1  BJP_Punjab  snscrape.modules.twitter.Tweet   \n",
       "2  BJP_Punjab  snscrape.modules.twitter.Tweet   \n",
       "3  BJP_Punjab  snscrape.modules.twitter.Tweet   \n",
       "4  BJP_Punjab  snscrape.modules.twitter.Tweet   \n",
       "\n",
       "                                                 url  \\\n",
       "0  https://twitter.com/bbang_channi/status/149264...   \n",
       "1  https://twitter.com/bbang_channi/status/149263...   \n",
       "2  https://twitter.com/Chirruped/status/149263702...   \n",
       "3  https://twitter.com/bostoniancskfan/status/149...   \n",
       "4  https://twitter.com/Rashpal27703387/status/149...   \n",
       "\n",
       "                        date  \\\n",
       "0  2022-02-12 23:26:27+00:00   \n",
       "1  2022-02-12 23:20:05+00:00   \n",
       "2  2022-02-12 23:09:33+00:00   \n",
       "3  2022-02-12 22:38:25+00:00   \n",
       "4  2022-02-12 22:36:29+00:00   \n",
       "\n",
       "                                          rawContent  \\\n",
       "0  Good morning lovies :))) did you sleep well ?❤️❤️   \n",
       "1                   @H4NJISILENTCRY facts right here   \n",
       "2  Doesn't look like it is going to be a straight...   \n",
       "3  @TimesNow If so, why sidhu’s family members ar...   \n",
       "4  @iJasOberoi It about understanding. Issues rai...   \n",
       "\n",
       "                                     renderedContent            id  \\\n",
       "0  Good morning lovies :))) did you sleep well ?❤️❤️  1.492641e+18   \n",
       "1                   @H4NJISILENTCRY facts right here  1.492640e+18   \n",
       "2  Doesn't look like it is going to be a straight...  1.492637e+18   \n",
       "3  @TimesNow If so, why sidhu’s family members ar...  1.492629e+18   \n",
       "4  @iJasOberoi It about understanding. Issues rai...  1.492629e+18   \n",
       "\n",
       "                                                user  replyCount  \\\n",
       "0  {'_type': 'snscrape.modules.twitter.User', 'us...         0.0   \n",
       "1  {'_type': 'snscrape.modules.twitter.User', 'us...         0.0   \n",
       "2  {'_type': 'snscrape.modules.twitter.User', 'us...         0.0   \n",
       "3  {'_type': 'snscrape.modules.twitter.User', 'us...         0.0   \n",
       "4  {'_type': 'snscrape.modules.twitter.User', 'us...         0.0   \n",
       "\n",
       "   retweetCount  ...  retweetedTweet  quotedTweet  inReplyToTweetId  \\\n",
       "0           0.0  ...             NaN          NaN               NaN   \n",
       "1           0.0  ...             NaN          NaN      1.492639e+18   \n",
       "2           0.0  ...             NaN          NaN               NaN   \n",
       "3           0.0  ...             NaN          NaN      1.492620e+18   \n",
       "4           0.0  ...             NaN          NaN      1.492571e+18   \n",
       "\n",
       "                                       inReplyToUser  \\\n",
       "0                                                NaN   \n",
       "1  {'_type': 'snscrape.modules.twitter.User', 'us...   \n",
       "2                                                NaN   \n",
       "3  {'_type': 'snscrape.modules.twitter.User', 'us...   \n",
       "4  {'_type': 'snscrape.modules.twitter.User', 'us...   \n",
       "\n",
       "                                      mentionedUsers coordinates place  \\\n",
       "0                                                NaN         NaN   NaN   \n",
       "1                                                NaN         NaN   NaN   \n",
       "2  [{'_type': 'snscrape.modules.twitter.User', 'u...         NaN   NaN   \n",
       "3  [{'_type': 'snscrape.modules.twitter.User', 'u...         NaN   NaN   \n",
       "4  [{'_type': 'snscrape.modules.twitter.User', 'u...         NaN   NaN   \n",
       "\n",
       "  hashtags cashtags  card  \n",
       "0      NaN      NaN   NaN  \n",
       "1      NaN      NaN   NaN  \n",
       "2      NaN      NaN   NaN  \n",
       "3      NaN      NaN   NaN  \n",
       "4      NaN      NaN   NaN  \n",
       "\n",
       "[5 rows x 29 columns]"
      ]
     },
     "execution_count": 7,
     "metadata": {},
     "output_type": "execute_result"
    }
   ],
   "source": [
    "df.head()"
   ]
  },
  {
   "cell_type": "code",
   "execution_count": 29,
   "metadata": {},
   "outputs": [],
   "source": [
    "sentiment_dir = \"/Users/kshitij1/Documents/GitHub/Using-Twitter-for-Elections-Analysis/Testing/Sentiments/\""
   ]
  },
  {
   "cell_type": "code",
   "execution_count": 30,
   "metadata": {},
   "outputs": [
    {
     "name": "stderr",
     "output_type": "stream",
     "text": [
      "  0%|          | 0/7 [00:00<?, ?it/s]/Library/Frameworks/Python.framework/Versions/3.7/lib/python3.7/site-packages/IPython/core/interactiveshell.py:3457: DtypeWarning: Columns (9) have mixed types.Specify dtype option on import or set low_memory=False.\n",
      "  exec(code_obj, self.user_global_ns, self.user_ns)\n",
      " 14%|█▍        | 1/7 [00:25<02:32, 25.37s/it]/Library/Frameworks/Python.framework/Versions/3.7/lib/python3.7/site-packages/IPython/core/interactiveshell.py:3457: DtypeWarning: Columns (9,21) have mixed types.Specify dtype option on import or set low_memory=False.\n",
      "  exec(code_obj, self.user_global_ns, self.user_ns)\n",
      " 43%|████▎     | 3/7 [02:22<02:56, 44.12s/it]/Library/Frameworks/Python.framework/Versions/3.7/lib/python3.7/site-packages/IPython/core/interactiveshell.py:3457: DtypeWarning: Columns (0,1,9,21,26) have mixed types.Specify dtype option on import or set low_memory=False.\n",
      "  exec(code_obj, self.user_global_ns, self.user_ns)\n",
      "100%|██████████| 7/7 [07:32<00:00, 64.69s/it]\n"
     ]
    }
   ],
   "source": [
    "for file in tqdm(files):\n",
    "    df = pd.read_csv(path+file)\n",
    "    tweets = df['tweet']\n",
    "    vectoriser, BNBmodel = load_models()\n",
    "    sentiments = predict(vectoriser,BNBmodel,preprocessList(tweets))['sentiment']\n",
    "    fname = file.split('.')[0]\n",
    "    np.save(sentiment_dir+fname+\"_BNB.npy\",sentiments)\n",
    "    subjectivity_list = [getSubjectivity(tweet) for tweet in tweets]\n",
    "    polarity_list = [getPolarity(tweet) for tweet in tweets]\n",
    "    np.save(sentiment_dir+fname+\"_subjectivity.npy\",subjectivity_list)\n",
    "    np.save(sentiment_dir+fname+\"_polarity.npy\",polarity_list)\n",
    "    "
   ]
  },
  {
   "cell_type": "code",
   "execution_count": 3,
   "metadata": {},
   "outputs": [
    {
     "name": "stderr",
     "output_type": "stream",
     "text": [
      "/Library/Frameworks/Python.framework/Versions/3.7/lib/python3.7/site-packages/IPython/core/interactiveshell.py:3457: DtypeWarning: Columns (0,1,9,21,26) have mixed types.Specify dtype option on import or set low_memory=False.\n",
      "  exec(code_obj, self.user_global_ns, self.user_ns)\n"
     ]
    }
   ],
   "source": [
    "df = pd.read_csv(\"/Users/kshitij1/Documents/GitHub/Using-Twitter-for-Elections-Analysis/Datasets/Testing/Categorized/aap.csv\")"
   ]
  },
  {
   "cell_type": "code",
   "execution_count": 4,
   "metadata": {},
   "outputs": [],
   "source": [
    "tweets = df['tweet']"
   ]
  },
  {
   "cell_type": "code",
   "execution_count": 5,
   "metadata": {},
   "outputs": [],
   "source": [
    "vectoriser, BNBmodel = load_models()"
   ]
  },
  {
   "cell_type": "code",
   "execution_count": 6,
   "metadata": {},
   "outputs": [],
   "source": [
    "sentiments = predict(vectoriser,BNBmodel,preprocessList(tweets))['sentiment']"
   ]
  },
  {
   "cell_type": "code",
   "execution_count": 7,
   "metadata": {},
   "outputs": [],
   "source": [
    "sentiments = sentiments.replace(['Negative','Positive'],[-1,1])"
   ]
  },
  {
   "cell_type": "code",
   "execution_count": 8,
   "metadata": {},
   "outputs": [],
   "source": [
    "import numpy as np"
   ]
  },
  {
   "cell_type": "code",
   "execution_count": 13,
   "metadata": {},
   "outputs": [],
   "source": [
    "np.save(\"/Users/kshitij1/Documents/GitHub/Using-Twitter-for-Elections-Analysis/Testing/Sentiments/aap_BNB.npy\",sentiments)"
   ]
  },
  {
   "cell_type": "code",
   "execution_count": 10,
   "metadata": {},
   "outputs": [],
   "source": [
    "from textblob import TextBlob\n",
    "from nltk.util import ngrams\n",
    "from nltk.classify import NaiveBayesClassifier\n",
    "from nltk.corpus import subjectivity\n",
    "from nltk.sentiment import SentimentAnalyzer\n",
    "from nltk.sentiment.util import *\n",
    "from nltk.sentiment.vader import SentimentIntensityAnalyzer"
   ]
  },
  {
   "cell_type": "code",
   "execution_count": 11,
   "metadata": {},
   "outputs": [],
   "source": [
    "def getSubjectivity(text):\n",
    "    return TextBlob(text).sentiment.subjectivity\n",
    "def getPolarity(text):\n",
    "    return TextBlob(text).sentiment.polarity\n",
    "def getAnalysis(score):\n",
    "    if score < 0:\n",
    "        return 'negative'\n",
    "    elif score==0:\n",
    "        return 'neutral'\n",
    "    else:\n",
    "        return 'positive'"
   ]
  },
  {
   "cell_type": "code",
   "execution_count": 12,
   "metadata": {},
   "outputs": [],
   "source": [
    "subjectivity_list = [getSubjectivity(tweet) for tweet in tweets]"
   ]
  },
  {
   "cell_type": "code",
   "execution_count": 14,
   "metadata": {},
   "outputs": [],
   "source": [
    "np.save(\"/Users/kshitij1/Documents/GitHub/Using-Twitter-for-Elections-Analysis/Testing/Sentiments/aap_subj.npy\",subjectivity_list)"
   ]
  },
  {
   "cell_type": "code",
   "execution_count": 15,
   "metadata": {},
   "outputs": [],
   "source": [
    "polarity_list = [getPolarity(tweet) for tweet in tweets]"
   ]
  },
  {
   "cell_type": "code",
   "execution_count": 16,
   "metadata": {},
   "outputs": [],
   "source": [
    "np.save('/Users/kshitij1/Documents/GitHub/Using-Twitter-for-Elections-Analysis/Testing/Sentiments/aap_polarity.npy',polarity_list)"
   ]
  },
  {
   "cell_type": "code",
   "execution_count": null,
   "metadata": {},
   "outputs": [],
   "source": []
  }
 ],
 "metadata": {
  "kernelspec": {
   "display_name": "Python 3.10.6 64-bit",
   "language": "python",
   "name": "python3"
  },
  "language_info": {
   "codemirror_mode": {
    "name": "ipython",
    "version": 3
   },
   "file_extension": ".py",
   "mimetype": "text/x-python",
   "name": "python",
   "nbconvert_exporter": "python",
   "pygments_lexer": "ipython3",
   "version": "3.10.6"
  },
  "orig_nbformat": 4,
  "vscode": {
   "interpreter": {
    "hash": "b0fa6594d8f4cbf19f97940f81e996739fb7646882a419484c72d19e05852a7e"
   }
  }
 },
 "nbformat": 4,
 "nbformat_minor": 2
}
