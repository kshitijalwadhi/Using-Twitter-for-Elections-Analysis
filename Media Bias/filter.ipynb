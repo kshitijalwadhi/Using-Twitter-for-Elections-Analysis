{
 "cells": [
  {
   "cell_type": "code",
   "execution_count": 1,
   "metadata": {},
   "outputs": [],
   "source": [
    "import pandas as pd\n",
    "import numpy as np\n",
    "import os\n",
    "from tqdm import tqdm"
   ]
  },
  {
   "cell_type": "code",
   "execution_count": 2,
   "metadata": {},
   "outputs": [],
   "source": [
    "root = \"/Users/kshitij1/Documents/GitHub/Using-Twitter-for-Elections-Analysis/Datasets/Media\""
   ]
  },
  {
   "cell_type": "code",
   "execution_count": 3,
   "metadata": {},
   "outputs": [],
   "source": [
    "files = os.listdir(root)"
   ]
  },
  {
   "cell_type": "code",
   "execution_count": 4,
   "metadata": {},
   "outputs": [],
   "source": [
    "df = pd.read_csv(root+\"/\"+files[0])"
   ]
  },
  {
   "cell_type": "code",
   "execution_count": 5,
   "metadata": {},
   "outputs": [],
   "source": [
    "tweets = df['tweet']"
   ]
  },
  {
   "cell_type": "code",
   "execution_count": 6,
   "metadata": {},
   "outputs": [],
   "source": [
    "aap_list = [\"aap\",\"#AAP\",\"@AamAadmiParty\",\"kejriwal\",\"#ArvindKejriwal\",\"@AAPPunjab\",\"#KejriwalVsAll\",\"@ArvindKejriwal\",\"#AAPdePaap\",\"@msisodia\",\"@BhagwantMann\"]\n",
    "inc_list = [\"congress\",\"INC\",\"@INCIndia\",\"@RahulGandhi\",\"Rahul Gandhi\",\"@INCPunjab\",\"@priyankagandhi\",\"@INCUttarPradesh\"]\n",
    "bsp_list = [\"@Mayawati\",\"bsp\",\"@BSPIndia\",\"bahujan samaj\",\"mayawati\",\"@AnandAkash_BSP\",\"@satishmisrabsp\"]\n",
    "samajwadi_list = [\"@yadavakhilesh\",\"samajwadi\",\"@samajwadiparty\",\"shivpal\",\"#MulayamSinghYadav\"]\n",
    "bjp_list = [\"bjp\",\"@BJP4India\",\"@narendramodi\",\"#BJPwinningUP\",\"@AmitShah\",\"@myogiadityanath\",\"yogi\",\"@BJP4TamilNadu\",\"@BJP4UP\",\"@JPNadda\",\"@CHARANJITCHANNI\",\"channi\"]"
   ]
  },
  {
   "cell_type": "code",
   "execution_count": 7,
   "metadata": {},
   "outputs": [],
   "source": [
    "# lower case all text in list\n",
    "aap_list = [x.lower() for x in aap_list]\n",
    "# print(aap_list)\n",
    "inc_list = [x.lower() for x in inc_list]\n",
    "bsp_list = [x.lower() for x in bsp_list]\n",
    "samajwadi_list = [x.lower() for x in samajwadi_list]\n",
    "bjp_list = [x.lower() for x in bjp_list]"
   ]
  },
  {
   "cell_type": "code",
   "execution_count": 8,
   "metadata": {},
   "outputs": [
    {
     "name": "stderr",
     "output_type": "stream",
     "text": [
      "100%|██████████| 20950/20950 [00:08<00:00, 2513.91it/s]\n"
     ]
    }
   ],
   "source": [
    "for i,row in tqdm(df.iterrows(),total = len(df.index)):\n",
    "    tweet = row['tweet'].lower()\n",
    "    words = tweet.split()\n",
    "    # words = tweets[i].split()\n",
    "    # print(words)\n",
    "    for word in words:\n",
    "        if word in aap_list:\n",
    "            df.loc[i,'party'] = 'aap'\n",
    "            break\n",
    "        elif word in inc_list:\n",
    "            df.loc[i,'party'] = 'inc'\n",
    "            break\n",
    "        elif word in bsp_list:\n",
    "            df.loc[i,'party'] = 'bsp'\n",
    "            break\n",
    "        elif word in samajwadi_list:\n",
    "            df.loc[i,'party'] = 'samajwadi'\n",
    "            break\n",
    "        elif word in bjp_list:\n",
    "            df.loc[i,'party'] = 'bjp'\n",
    "            break\n",
    "        else:\n",
    "            df.loc[i,'party'] = 'other'\n",
    "            break"
   ]
  },
  {
   "cell_type": "code",
   "execution_count": 9,
   "metadata": {},
   "outputs": [],
   "source": [
    "import pandas as pd\n",
    "from sentiment import load_models,predict, predict_vader\n",
    "from preprocess import preprocessList\n",
    "import os\n",
    "import numpy as np\n",
    "from textblob import TextBlob\n",
    "from nltk.util import ngrams\n",
    "from nltk.classify import NaiveBayesClassifier\n",
    "from nltk.corpus import subjectivity\n",
    "from nltk.sentiment import SentimentAnalyzer\n",
    "from nltk.sentiment.util import *\n",
    "from nltk.sentiment.vader import SentimentIntensityAnalyzer\n",
    "from tqdm import tqdm"
   ]
  },
  {
   "cell_type": "code",
   "execution_count": 10,
   "metadata": {},
   "outputs": [],
   "source": [
    "def getSubjectivity(text):\n",
    "    return TextBlob(text).sentiment.subjectivity\n",
    "def getPolarity(text):\n",
    "    return TextBlob(text).sentiment.polarity\n",
    "def getAnalysis(score):\n",
    "    if score < 0:\n",
    "        return 'negative'\n",
    "    elif score==0:\n",
    "        return 'neutral'\n",
    "    else:\n",
    "        return 'positive'"
   ]
  },
  {
   "cell_type": "code",
   "execution_count": 11,
   "metadata": {},
   "outputs": [],
   "source": [
    "df = df[df['party']!='other']"
   ]
  },
  {
   "cell_type": "code",
   "execution_count": 14,
   "metadata": {},
   "outputs": [],
   "source": [
    "sentiment_dir = \"/Users/kshitij1/Documents/GitHub/Using-Twitter-for-Elections-Analysis/Media Bias/Sentiments/\""
   ]
  },
  {
   "cell_type": "code",
   "execution_count": 16,
   "metadata": {},
   "outputs": [],
   "source": [
    "parties = [\"aap\",\"bjp\",\"inc\",\"samajwadi\",\"bsp\"]"
   ]
  },
  {
   "cell_type": "code",
   "execution_count": 18,
   "metadata": {},
   "outputs": [
    {
     "name": "stderr",
     "output_type": "stream",
     "text": [
      " 40%|████      | 2/5 [00:15<00:22,  7.34s/it]/Library/Frameworks/Python.framework/Versions/3.7/lib/python3.7/site-packages/IPython/core/interactiveshell.py:3457: DtypeWarning: Columns (22) have mixed types.Specify dtype option on import or set low_memory=False.\n",
      "  exec(code_obj, self.user_global_ns, self.user_ns)\n",
      "100%|██████████| 5/5 [00:55<00:00, 11.12s/it]\n"
     ]
    }
   ],
   "source": [
    "for file in tqdm(files):\n",
    "    df = pd.read_csv(root+\"/\"+file)\n",
    "    tweets = df['tweet']\n",
    "    for i,row in df.iterrows():\n",
    "        tweet = row['tweet'].lower()\n",
    "        words = tweet.split()\n",
    "        # words = tweets[i].split()\n",
    "        # print(words)\n",
    "        for word in words:\n",
    "            if word in aap_list:\n",
    "                df.loc[i,'party'] = 'aap'\n",
    "                break\n",
    "            elif word in inc_list:\n",
    "                df.loc[i,'party'] = 'inc'\n",
    "                break\n",
    "            elif word in bsp_list:\n",
    "                df.loc[i,'party'] = 'bsp'\n",
    "                break\n",
    "            elif word in samajwadi_list:\n",
    "                df.loc[i,'party'] = 'samajwadi'\n",
    "                break\n",
    "            elif word in bjp_list:\n",
    "                df.loc[i,'party'] = 'bjp'\n",
    "                break\n",
    "            else:\n",
    "                df.loc[i,'party'] = 'other'\n",
    "                break\n",
    "\n",
    "    for party in parties:\n",
    "        tempdf = df[df['party']==party]\n",
    "        tempdf.to_csv(party+\".csv\",index=False)"
   ]
  },
  {
   "cell_type": "code",
   "execution_count": 17,
   "metadata": {},
   "outputs": [
    {
     "name": "stderr",
     "output_type": "stream",
     "text": [
      " 40%|████      | 2/5 [00:35<00:52, 17.58s/it]/Library/Frameworks/Python.framework/Versions/3.7/lib/python3.7/site-packages/IPython/core/interactiveshell.py:3457: DtypeWarning: Columns (22) have mixed types.Specify dtype option on import or set low_memory=False.\n",
      "  exec(code_obj, self.user_global_ns, self.user_ns)\n",
      "100%|██████████| 5/5 [01:50<00:00, 22.17s/it]\n"
     ]
    }
   ],
   "source": [
    "for file in tqdm(files):\n",
    "    df = pd.read_csv(root+\"/\"+file)\n",
    "    tweets = df['tweet']\n",
    "    for i,row in df.iterrows():\n",
    "        tweet = row['tweet'].lower()\n",
    "        words = tweet.split()\n",
    "        # words = tweets[i].split()\n",
    "        # print(words)\n",
    "        for word in words:\n",
    "            if word in aap_list:\n",
    "                df.loc[i,'party'] = 'aap'\n",
    "                break\n",
    "            elif word in inc_list:\n",
    "                df.loc[i,'party'] = 'inc'\n",
    "                break\n",
    "            elif word in bsp_list:\n",
    "                df.loc[i,'party'] = 'bsp'\n",
    "                break\n",
    "            elif word in samajwadi_list:\n",
    "                df.loc[i,'party'] = 'samajwadi'\n",
    "                break\n",
    "            elif word in bjp_list:\n",
    "                df.loc[i,'party'] = 'bjp'\n",
    "                break\n",
    "            else:\n",
    "                df.loc[i,'party'] = 'other'\n",
    "                break\n",
    "    \n",
    "    for party in parties:\n",
    "        tempdf = df[df['party']==party]\n",
    "        tweets = tempdf['tweet']\n",
    "        vectoriser, BNBmodel = load_models()\n",
    "        sentiments = predict(vectoriser,BNBmodel,preprocessList(tweets))['sentiment']\n",
    "        fname = file.split('.')[0] + f\"_{party}\"\n",
    "        np.save(sentiment_dir+fname+\"_BNB.npy\",sentiments)\n",
    "        subjectivity_list = [getSubjectivity(tweet) for tweet in tweets]\n",
    "        polarity_list = [getPolarity(tweet) for tweet in tweets]\n",
    "        np.save(sentiment_dir+fname+\"_subjectivity.npy\",subjectivity_list)\n",
    "        np.save(sentiment_dir+fname+\"_polarity.npy\",polarity_list)\n",
    "    "
   ]
  },
  {
   "cell_type": "code",
   "execution_count": null,
   "metadata": {},
   "outputs": [],
   "source": []
  }
 ],
 "metadata": {
  "interpreter": {
   "hash": "aee8b7b246df8f9039afb4144a1f6fd8d2ca17a180786b69acc140d282b71a49"
  },
  "kernelspec": {
   "display_name": "Python 3.7.9 64-bit",
   "language": "python",
   "name": "python3"
  },
  "language_info": {
   "codemirror_mode": {
    "name": "ipython",
    "version": 3
   },
   "file_extension": ".py",
   "mimetype": "text/x-python",
   "name": "python",
   "nbconvert_exporter": "python",
   "pygments_lexer": "ipython3",
   "version": "3.7.9"
  },
  "orig_nbformat": 4
 },
 "nbformat": 4,
 "nbformat_minor": 2
}
